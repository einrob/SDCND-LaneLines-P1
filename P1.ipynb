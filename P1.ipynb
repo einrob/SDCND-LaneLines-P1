{
 "cells": [
  {
   "cell_type": "markdown",
   "metadata": {},
   "source": [
    "# Self-Driving Car Engineer Nanodegree\n",
    "\n",
    "\n",
    "## Project: **Finding Lane Lines on the Road** \n",
    "\n",
    "The first project is about finding lanes in a series of images using the canny edge detector algorithm and the hough transformation to find lines. Some filtering have to be done to stabilize noisy detections. "
   ]
  },
  {
   "cell_type": "markdown",
   "metadata": {},
   "source": [
    "## Import Packages and define some functions\n",
    "\n",
    "These functions are provided by the udacity team"
   ]
  },
  {
   "cell_type": "code",
   "execution_count": 1,
   "metadata": {
    "collapsed": true,
    "scrolled": false
   },
   "outputs": [],
   "source": [
    "#importing some useful packages\n",
    "import matplotlib.pyplot as plt\n",
    "import matplotlib.image as mpimg\n",
    "import numpy as np\n",
    "import cv2\n",
    "%matplotlib inline\n",
    "\n",
    "import math\n",
    "\n",
    "def grayscale(img):\n",
    "    \"\"\"Applies the Grayscale transform\n",
    "    This will return an image with only one color channel\n",
    "    but NOTE: to see the returned image as grayscale\n",
    "    (assuming your grayscaled image is called 'gray')\n",
    "    you should call plt.imshow(gray, cmap='gray')\"\"\"\n",
    "    return cv2.cvtColor(img, cv2.COLOR_RGB2GRAY)\n",
    "    # Or use BGR2GRAY if you read an image with cv2.imread()\n",
    "    # return cv2.cvtColor(img, cv2.COLOR_BGR2GRAY)\n",
    "    \n",
    "def canny(img, low_threshold, high_threshold):\n",
    "    \"\"\"Applies the Canny transform\"\"\"\n",
    "    return cv2.Canny(img, low_threshold, high_threshold)\n",
    "\n",
    "def gaussian_blur(img, kernel_size):\n",
    "    \"\"\"Applies a Gaussian Noise kernel\"\"\"\n",
    "    return cv2.GaussianBlur(img, (kernel_size, kernel_size), 0)\n",
    "\n",
    "def region_of_interest(img, vertices):\n",
    "    \"\"\"\n",
    "    Applies an image mask.\n",
    "    \n",
    "    Only keeps the region of the image defined by the polygon\n",
    "    formed from `vertices`. The rest of the image is set to black.\n",
    "    \"\"\"\n",
    "    #defining a blank mask to start with\n",
    "    mask = np.zeros_like(img)   \n",
    "    \n",
    "    #defining a 3 channel or 1 channel color to fill the mask with depending on the input image\n",
    "    if len(img.shape) > 2:\n",
    "        channel_count = img.shape[2]  # i.e. 3 or 4 depending on your image\n",
    "        ignore_mask_color = (255,) * channel_count\n",
    "    else:\n",
    "        ignore_mask_color = 255\n",
    "        \n",
    "    #filling pixels inside the polygon defined by \"vertices\" with the fill color    \n",
    "    cv2.fillPoly(mask, vertices, ignore_mask_color)\n",
    "    \n",
    "    #returning the image only where mask pixels are nonzero\n",
    "    masked_image = cv2.bitwise_and(img, mask)\n",
    "    return masked_image\n",
    "\n",
    "\n",
    "def draw_lines(img, lines, color=[255, 0, 0], thickness=2):\n",
    "    \"\"\"\n",
    "    NOTE: this is the function you might want to use as a starting point once you want to \n",
    "    average/extrapolate the line segments you detect to map out the full\n",
    "    extent of the lane (going from the result shown in raw-lines-example.mp4\n",
    "    to that shown in P1_example.mp4).  \n",
    "    \n",
    "    Think about things like separating line segments by their \n",
    "    slope ((y2-y1)/(x2-x1)) to decide which segments are part of the left\n",
    "    line vs. the right line.  Then, you can average the position of each of \n",
    "    the lines and extrapolate to the top and bottom of the lane.\n",
    "    \n",
    "    This function draws `lines` with `color` and `thickness`.    \n",
    "    Lines are drawn on the image inplace (mutates the image).\n",
    "    If you want to make the lines semi-transparent, think about combining\n",
    "    this function with the weighted_img() function below\n",
    "    \"\"\"\n",
    "    for line in lines:\n",
    "        for x1,y1,x2,y2 in line:\n",
    "            cv2.line(img, (x1, y1), (x2, y2), color, thickness)\n",
    "\n",
    "def hough_lines(img, rho, theta, threshold, min_line_len, max_line_gap):\n",
    "    \"\"\"\n",
    "    `img` should be the output of a Canny transform.\n",
    "        \n",
    "    Returns an image with hough lines drawn.\n",
    "    \"\"\"\n",
    "    lines = cv2.HoughLinesP(img, rho, theta, threshold, np.array([]), minLineLength=min_line_len, maxLineGap=max_line_gap)\n",
    "    line_img = np.zeros((img.shape[0], img.shape[1], 3), dtype=np.uint8)\n",
    "    draw_lines(line_img, lines)\n",
    "    return line_img\n",
    "\n",
    "# Python 3 has support for cool math symbols.\n",
    "\n",
    "def weighted_img(img, initial_img, α=0.8, β=1., λ=0.):\n",
    "    \"\"\"\n",
    "    `img` is the output of the hough_lines(), An image with lines drawn on it.\n",
    "    Should be a blank image (all black) with lines drawn on it.\n",
    "    \n",
    "    `initial_img` should be the image before any processing.\n",
    "    \n",
    "    The result image is computed as follows:\n",
    "    \n",
    "    initial_img * α + img * β + λ\n",
    "    NOTE: initial_img and img must be the same shape!\n",
    "    \"\"\"\n",
    "    return cv2.addWeighted(initial_img, α, img, β, λ)\n",
    "\n",
    "import os\n",
    "dir_list = os.listdir(\"test_images/\")   \n"
   ]
  },
  {
   "cell_type": "markdown",
   "metadata": {},
   "source": [
    "## Fist task: Detect lines on single images\n",
    "\n",
    "Entry task is to detect the lane lines on single images. The detected lines by the hough transformation have to be averaged only for one frame. \n"
   ]
  },
  {
   "cell_type": "code",
   "execution_count": 2,
   "metadata": {
    "scrolled": true
   },
   "outputs": [
    {
     "name": "stdout",
     "output_type": "stream",
     "text": [
      "test_images/solidYellowCurve2.jpg\n",
      "This image is: <class 'numpy.ndarray'> with dimensions: (540, 960, 3)\n",
      "test_images/solidWhiteCurve.jpg\n",
      "This image is: <class 'numpy.ndarray'> with dimensions: (540, 960, 3)\n",
      "test_images/solidYellowLeft.jpg\n",
      "This image is: <class 'numpy.ndarray'> with dimensions: (540, 960, 3)\n",
      "test_images/solidWhiteRight.jpg\n",
      "This image is: <class 'numpy.ndarray'> with dimensions: (540, 960, 3)\n",
      "test_images/solidYellowCurve.jpg\n",
      "This image is: <class 'numpy.ndarray'> with dimensions: (540, 960, 3)\n",
      "test_images/whiteCarLaneSwitch.jpg\n",
      "This image is: <class 'numpy.ndarray'> with dimensions: (540, 960, 3)\n"
     ]
    },
    {
     "data": {
      "image/png": "[encoded data removed]",
      "text/plain": [
       "<matplotlib.figure.Figure at 0x7ff9982b4550>"
      ]
     },
     "metadata": {},
     "output_type": "display_data"
    }
   ],
   "source": [
    "# Building a lane finding pipeline \n",
    "# TODO: Build your pipeline that will draw lane lines on the test_images\n",
    "# then save them to the test_images directory.\n",
    "\n",
    "# ---------------------- CONSTANTS -------------------------------\n",
    "\n",
    "# define gaussian filter kernel size to reduce image noise  \n",
    "kernel_size = 7\n",
    "\n",
    "# Define our parameters for Canny \n",
    "low_threshold = 50\n",
    "high_threshold = 150\n",
    "\n",
    "# Define the Hough transform parameters\n",
    "rho = 1 # distance resolution in pixels of the Hough grid\n",
    "theta = np.pi/180 # angular resolution in radians of the Hough grid\n",
    "threshold = 30     # minimum number of votes (intersections in Hough grid cell)\n",
    "min_line_length = 15 #minimum number of pixels making up a line\n",
    "max_line_gap = 10   # maximum gap in pixels between connectable line segments\n",
    "\n",
    "# ROI scalings in percent of imageg size \n",
    "# bottom left, top left, top right, bottom right \n",
    "bottom_left_roi_scale_x = 0.1241\n",
    "bottom_left_roi_scale_y = 0.92\n",
    "\n",
    "top_left_roi_scale_x = 0.40\n",
    "top_left_roi_scale_y = 0.65\n",
    "\n",
    "top_right_roi_scale_x = 0.6\n",
    "top_right_roi_scale_y = 0.65\n",
    "\n",
    "bottom_right_scale_x = 0.9075\n",
    "bottom_right_scale_y = 0.92\n",
    "\n",
    "\n",
    "# ---------------------- PROCESSING -------------------------------\n",
    "\n",
    "# Loading images from directory \n",
    "for dir in dir_list: \n",
    "    print(\"test_images/\"+dir)\n",
    "\n",
    "    # Load from path \n",
    "    image = mpimg.imread(\"test_images/\"+dir)\n",
    "    imshape = image.shape\n",
    "\n",
    "    #printing out some stats and plotting\n",
    "    print('This image is:', type(image), 'with dimensions:', image.shape)\n",
    "    plt.imshow(image)  # if you wanted to show a single color channel image called 'gray', for example, call as plt.imshow(gray, cmap='gray')\n",
    "    \n",
    "    gray = grayscale(image)\n",
    "\n",
    "    # Blur the image with the gaussian filter \n",
    "    # gray = cv2.GaussianBlur(gray,(kernel_size, kernel_size),0)\n",
    "    gray = gaussian_blur(gray, kernel_size)\n",
    "\n",
    "    # Calculate edges with canny algorithm \n",
    "    edges = canny(gray, low_threshold, high_threshold)\n",
    "\n",
    "    # Because the second video have another size but the same side ratio define ROI in % of image size \n",
    "    # This would not work if image size not has same side ratio \n",
    "    #vertices = np.array([[(100,imshape[0]),(450, 320), (550, 320), (900,imshape[0])]], dtype=np.int32)\n",
    "    # imshape[0] = ROWS = y \n",
    "    # imshape[1] = COLS = x \n",
    "    # np.array([[(x,y),(x,y), (x,y), (x,y), ... n-coordiantes ... ]], dtype=np.int32)\n",
    "    vertices = np.array([[(imshape[1]*bottom_left_roi_scale_x,imshape[0]*bottom_left_roi_scale_y),(imshape[1]*top_left_roi_scale_x, imshape[0]*top_left_roi_scale_y), (imshape[1]*top_right_roi_scale_x,  imshape[0]*top_right_roi_scale_y), (imshape[1]*bottom_right_scale_x,imshape[0]*bottom_right_scale_y)]], dtype=np.int32)\n",
    "    \n",
    "    masked_edge_image = region_of_interest(edges, vertices)\n",
    "\n",
    "    # hough_lines function does not return lines - so I call the cv2.HoughLinesP function directly to get lines g\n",
    "    lines = cv2.HoughLinesP(masked_edge_image, rho, theta, threshold, np.array([]), min_line_length, max_line_gap)\n",
    "    line_image = np.zeros((masked_edge_image.shape[0], masked_edge_image.shape[1], 3), dtype=np.uint8)\n",
    "    draw_lines(line_image, lines)\n",
    "\n",
    "    left_count = 0\n",
    "    right_count = 0\n",
    "    left_slope_avg = 0\n",
    "    right_slope_avg = 0\n",
    "    left_pos_avg = 0 \n",
    "    right_pos_avg = 0\n",
    "\n",
    "    # Tried to define integer vetors but they change their type later on!? \n",
    "    left_pos_avg = np.zeros((4,) , dtype=np.int);\n",
    "    right_pos_avg = np.zeros((4,) , dtype=np.int);\n",
    "\n",
    "    # Sorting and averaging the slope of the calculated line segments \n",
    "    for line in lines:\n",
    "        for x1,y1,x2,y2 in line:\n",
    "                #print('x1:', x1, ' y1:', y1, ' x2:', x2, ' y2:', y2 )\n",
    "                slope = ((y2-y1)/(x2-x1))\n",
    "                #print('Slope: ', slope) \n",
    "                if slope < 0: \n",
    "                    #print('right')\n",
    "                    right_count = right_count + 1\n",
    "                    right_slope_avg = right_slope_avg + slope\n",
    "                    right_pos_avg[0] = right_pos_avg[0] + x1 + x2\n",
    "                    right_pos_avg[1] = right_pos_avg[1] + y1 + y2 \n",
    "                else: \n",
    "                    #print('left')\n",
    "                    left_count = left_count +1 \n",
    "                    left_slope_avg = left_slope_avg + slope \n",
    "                    left_pos_avg[0] = left_pos_avg[0] + x1 + x2 \n",
    "                    left_pos_avg[1] = left_pos_avg[1] + y1 + y2 \n",
    "    \n",
    "    # Averaging slope and x,y position for one frame\n",
    "    left_slope_avg = left_slope_avg / left_count\n",
    "    right_slope_avg = right_slope_avg / right_count \n",
    "    left_pos_avg = left_pos_avg / (left_count*2) \n",
    "    right_pos_avg = right_pos_avg / (right_count*2)\n",
    "\n",
    "    # Using line equation to calculate new averaged lines \n",
    "    # y = kx + d \n",
    "\n",
    "    # Calculating intersection of line with y axis with calculated slope \n",
    "    # and the averaged position \n",
    "    # d = y - kx \n",
    "    d_left = left_pos_avg[1] - left_slope_avg*left_pos_avg[0]\n",
    "    d_right = right_pos_avg[1] - right_slope_avg*right_pos_avg[0]\n",
    "\n",
    "    # Calculating x coordinates at max y (number of rows) --> where to start at the bottom of the image \n",
    "    # x = (y-d)/k\n",
    "    left_pos_avg[3]  = imshape[0]\n",
    "    right_pos_avg[3] = imshape[0]\n",
    "\n",
    "    left_pos_avg[2] = (left_pos_avg[3] - d_left)/left_slope_avg \n",
    "    right_pos_avg[2] = (right_pos_avg[3] - d_right)/(right_slope_avg)\n",
    "\n",
    "    # Calculating second point for line drawing - 330 height is choosen so that they do not intersect \n",
    "    # --> Where to end the line so that it looks neat \n",
    "    left_pos_avg[0] =(330 - d_left)/(left_slope_avg)\n",
    "    left_pos_avg[1] = 330\n",
    "    right_pos_avg[0] =(330 - d_right)/(right_slope_avg)\n",
    "    right_pos_avg[1] = 330 \n",
    "\n",
    "    # Drawing debug image \n",
    "    cv2.line(line_image, (int(right_pos_avg[0]), int(right_pos_avg[1])), (int(right_pos_avg[2]), int(right_pos_avg[3])), [0, 255, 0], 4)\n",
    "    cv2.line(line_image, (int(left_pos_avg[0]), int(left_pos_avg[1])), (int(left_pos_avg[2]), int(left_pos_avg[3])), [0, 0, 255], 4)\n",
    "\n",
    "    # Drawing output image --> make a blank copy for overlay \n",
    "    image_overlay = np.copy(image)*0 \n",
    "\n",
    "    cv2.line(image_overlay, (int(right_pos_avg[0]), int(right_pos_avg[1])), (int(right_pos_avg[2]), int(right_pos_avg[3])), [0, 255, 0], 16)\n",
    "    cv2.line(image_overlay, (int(left_pos_avg[0]), int(left_pos_avg[1])), (int(left_pos_avg[2]), int(left_pos_avg[3])), [0, 0, 255], 16)\n",
    "\n",
    "    overlayed_image = weighted_img(image_overlay, image, 1.0, 0.8)\n",
    "\n",
    "   \n",
    "    \n",
    "    # ---------------------- DEBUG -------------------------------\n",
    "    \n",
    "    # Debug messages - are there preprocessor directives in python!? \n",
    "    show_debug_messages = False\n",
    "    \n",
    "    if show_debug_messages == True: \n",
    "        print('---------------------------------------------')\n",
    "        print('d_left: ', d_left)\n",
    "        print('d_right: ', d_right)\n",
    "        print('right count', right_count)\n",
    "        print('left_count', left_count)\n",
    "        print('left slope average: ', left_slope_avg)\n",
    "        print('right slope average: ', right_slope_avg)\n",
    "        print('right pos average x1: ', right_pos_avg[0], ' y1:',  right_pos_avg[1], 'x2: ', right_pos_avg[2], ' y2:',  right_pos_avg[3])\n",
    "        print('left pos average x1: ', left_pos_avg[0], ' y1:',  left_pos_avg[1], 'x2: ', left_pos_avg[2], ' y2:',  left_pos_avg[3])\n",
    "\n",
    "    # Show gaussian blurred imaged \n",
    "    #plt.imshow(gray, cmap='gray')\n",
    "    \n",
    "    # Show edged picture \n",
    "    #plt.imshow(masked_edge_image, cmap = 'gray')\n",
    "    \n",
    "    # Show segmented lines \n",
    "    #plt.imshow(line_image, cmap = 'gray')\n",
    "    \n",
    "    draw_roi = False\n",
    "    \n",
    "    if draw_roi == True:\n",
    "        cv2.line(overlayed_image, (int(imshape[1]*bottom_left_roi_scale_x), int(imshape[0]*bottom_left_roi_scale_y)), (int(imshape[1]*top_left_roi_scale_x), int(imshape[0]*top_left_roi_scale_y)), [0, 255, 0], 1)\n",
    "        cv2.line(overlayed_image, (int(imshape[1]*top_left_roi_scale_x), int(imshape[0]*top_left_roi_scale_y)), (int(imshape[1]*top_right_roi_scale_x), int(imshape[0]*top_right_roi_scale_y)), [0, 255, 0], 1)\n",
    "        cv2.line(overlayed_image, (int(imshape[1]*top_right_roi_scale_x), int(imshape[0]*top_right_roi_scale_y)), (int(imshape[1]*bottom_right_scale_x), int(imshape[0]*bottom_right_scale_y)), [0, 255, 0], 1)\n",
    "        cv2.line(overlayed_image, (int(imshape[1]*bottom_right_scale_x), int(imshape[0]*bottom_right_scale_y)), (int(imshape[1]*bottom_left_roi_scale_x), int(imshape[0]*bottom_left_roi_scale_y)), [0, 255, 0], 1)\n",
    "\n",
    "    \n",
    "    # Show segmented lines \n",
    "    plt.imshow(overlayed_image)\n",
    "     \n",
    "    # Because imread swappes R and B \n",
    "    cv2.imwrite(\"test_images_output/\"+dir, cv2.cvtColor(overlayed_image, cv2.COLOR_RGB2BGR))\n"
   ]
  },
  {
   "cell_type": "markdown",
   "metadata": {},
   "source": [
    "## Second task: Detect lines on a stream of images (video)\n",
    "\n",
    "In the second task the lines have to be detected in a series of successive images. Now it makes sense to keep data throughout the frames to stabilize noisy detections of the lane marking slopes and positions. \n",
    "\n",
    "Importing further libraries: "
   ]
  },
  {
   "cell_type": "code",
   "execution_count": 3,
   "metadata": {
    "collapsed": true
   },
   "outputs": [],
   "source": [
    "# Import everything needed to edit/save/watch video clips\n",
    "from moviepy.editor import VideoFileClip\n",
    "from IPython.display import HTML\n",
    "from math import *\n",
    "import matplotlib.pyplot as plt\n",
    "import matplotlib.patches as mpatches\n"
   ]
  },
  {
   "cell_type": "markdown",
   "metadata": {},
   "source": [
    "Redefining my constants because even on my on edge 24\" monitor it is a long way to scroll up to the top. \n",
    "\n",
    "Defining some globals to be able to keep data throughout the frames. "
   ]
  },
  {
   "cell_type": "code",
   "execution_count": 23,
   "metadata": {
    "collapsed": true
   },
   "outputs": [],
   "source": [
    "# ---------------------- CONSTANTS AND GLOBALS -------------------------------\n",
    "\n",
    "# define gaussian filter kernel size to reduce image noise  \n",
    "kernel_size = 7\n",
    "\n",
    "# Define our parameters for Canny \n",
    "low_threshold = 50\n",
    "high_threshold = 150\n",
    "\n",
    "# Define the Hough transform parameters\n",
    "rho = 1 # distance resolution in pixels of the Hough grid\n",
    "theta = np.pi/180 # angular resolution in radians of the Hough grid\n",
    "threshold = 30     # minimum number of votes (intersections in Hough grid cell)\n",
    "min_line_length = 15 #minimum number of pixels making up a line\n",
    "max_line_gap = 10   # maximum gap in pixels between connectable line segments\n",
    "\n",
    "\n",
    "# ROI scalings in percent of imageg size \n",
    "# bottom left, top left, top right, bottom right \n",
    "bottom_left_roi_scale_x = 0.1241\n",
    "bottom_left_roi_scale_y = 0.92\n",
    "\n",
    "top_left_roi_scale_x = 0.40\n",
    "top_left_roi_scale_y = 0.65\n",
    "\n",
    "top_right_roi_scale_x = 0.6\n",
    "top_right_roi_scale_y = 0.65\n",
    "\n",
    "bottom_right_scale_x = 0.9075\n",
    "bottom_right_scale_y = 0.92\n",
    "\n",
    "# Using this like a c struct \n",
    "class Statistics:\n",
    "    count = 0.0\n",
    "    mean = 0.0\n",
    "    var = 0.0\n",
    "    M2 = 0.0\n",
    "\n",
    "filtered_d_right = Statistics()\n",
    "filtered_d_left = Statistics() \n",
    "\n",
    "filtered_d_right.mean = 5.0\n",
    "filtered_d_right.var = 9999.0\n",
    "\n",
    "filtered_d_left.mean = 640.0\n",
    "filtered_d_left.var = 9999.0\n",
    "    \n",
    "slope_right = Statistics() \n",
    "# Using apriori knowledge to initialize slope of line \n",
    "slope_right.mean = -0.7\n",
    "slope_right.var = 0.002\n",
    "\n",
    "slope_left = Statistics()\n",
    "# Using apriori knowledge to initialize slope of line \n",
    "slope_left.mean = 0.6\n",
    "slope_left.var = 0.002\n",
    "    \n",
    "filtered_slope_right = Statistics()\n",
    "filtered_slope_right.var = 9999.0\n",
    "filtered_slope_right.mean = -0.7\n",
    "\n",
    "filtered_slope_left = Statistics()\n",
    "filtered_slope_left.var = 99999.0\n",
    "filtered_slope_left.mean = 0.6\n",
    "\n",
    "plot_slope_left_filtered=[]\n",
    "plot_slope_left=[]\n",
    "\n",
    "plot_slope_right_filtered=[]\n",
    "plot_slope_right=[]\n",
    "\n",
    "plot_d_right_filtered=[]\n",
    "plot_d_right=[]\n",
    "plot_d_left_filtered=[]\n",
    "plot_d_left=[]\n",
    "frame=[]\n",
    "frame_counter = 0\n",
    "\n",
    "# Tried to define integer vetors but they change their type later on!? \n",
    "left_pos_avg = np.zeros((4,) , dtype=np.int);\n",
    "right_pos_avg = np.zeros((4,) , dtype=np.int);\n",
    "\n",
    "def update(mean1, var1, mean2, var2):\n",
    "    new_mean = float(var2 * mean1 + var1 * mean2) / (var1 + var2)\n",
    "    new_var = 1./(1./var1 + 1./var2)\n",
    "    return (new_mean, new_var)\n",
    "\n",
    "def predict(mean1, var1, mean2, var2):\n",
    "    new_mean = mean1 + mean2\n",
    "    new_var = var1 + var2\n",
    "    return (new_mean, new_var)\n",
    "\n",
    "\n",
    "def calc_mean_welford(x, mean, M2, n): \n",
    "    n = n + 1\n",
    "    delta = x - mean\n",
    "    mean += delta/n\n",
    "    delta2 = x - mean\n",
    "    M2 += delta*delta2\n",
    "    return (mean, M2, n)\n",
    "\n",
    "def calc_var_welford(n, M2, var): \n",
    "    if n < 2: # not enough sample points to estimate variance \n",
    "        var = var # using last variance \n",
    "    else:\n",
    "        var = (M2 / (n -1)) # Estimating variance\n",
    "        #print('right_slope_mean: ', slope_right.mean, ' var: ', slope_right.var) \n",
    "    return (var)\n",
    "\n",
    "\n",
    "def process_image(image):\n",
    "    global left_pos_avg\n",
    "    global right_pos_avg\n",
    "    global slope_left\n",
    "    global slope_right \n",
    "    global filtered_slope_left\n",
    "    global filtered_slope_right\n",
    "    global filtered_d_right\n",
    "    global filtered_d_left \n",
    "    \n",
    "    global plot_slope_left_filtered\n",
    "    global plot_slope_left\n",
    "    global plot_slope_right_filtered\n",
    "    global plot_slope_right\n",
    "\n",
    "    global plot_d_right_filtered\n",
    "    global plot_d_right\n",
    "    global plot_d_left_filtered\n",
    "    global plot_d_left\n",
    "    \n",
    "    global frame\n",
    "    global frame_counter \n",
    "    \n",
    "    frame_counter = frame_counter + 1\n",
    "    frame.append(frame_counter)\n",
    "    \n",
    "    gray = grayscale(image)\n",
    "\n",
    "    # Blur the image with the gaussian filter \n",
    "    # gray = cv2.GaussianBlur(gray,(kernel_size, kernel_size),0)\n",
    "    gray = gaussian_blur(gray, kernel_size)\n",
    "\n",
    "    # Define our parameters for Canny \n",
    "    edges = canny(gray, low_threshold, high_threshold)\n",
    "\n",
    "    # Because the second video have another size but the same side ratio define ROI in % of image size \n",
    "    # This would not work if image size not has same side ratio \n",
    "    imshape = edges.shape\n",
    "        \n",
    "    vertices = np.array([[(imshape[1]*bottom_left_roi_scale_x,imshape[0]*bottom_left_roi_scale_y),(imshape[1]*top_left_roi_scale_x, imshape[0]*top_left_roi_scale_y), (imshape[1]*top_right_roi_scale_x,  imshape[0]*top_right_roi_scale_y), (imshape[1]*bottom_right_scale_x,imshape[0]*bottom_right_scale_y)]], dtype=np.int32)\n",
    "    masked_edge_image = region_of_interest(edges, vertices)\n",
    "       \n",
    "    # hough_lines function does not return lines - so I call the cv2.HoughLinesP function directly to get lines g\n",
    "    lines = cv2.HoughLinesP(masked_edge_image, rho, theta, threshold, np.array([]), min_line_length, max_line_gap)\n",
    "   \n",
    "   # Tried to define integer vetors but they change their type later on!? \n",
    "    frame_left_pos_avg = np.zeros((4,) , dtype=np.int);\n",
    "    frame_right_pos_avg = np.zeros((4,) , dtype=np.int);\n",
    "      \n",
    "    slope_left.count = 0\n",
    "    slope_right.count = 0\n",
    "   \n",
    "    right_slope_avg = slope_right.mean \n",
    "    left_slope_avg = slope_left.mean \n",
    "\n",
    "    # Sorting and averaging the slope of the calculated line segments \n",
    "    for line in lines:\n",
    "        for x1,y1,x2,y2 in line:\n",
    "                #print('x1:', x1, ' y1:', y1, ' x2:', x2, ' y2:', y2 )\n",
    "                slope = ((y2-y1)/(x2-x1))\n",
    "                #print('Slope: ', slope) \n",
    "                \n",
    "                if (slope < 0.75 and slope > 0.55) or (slope < -0.55 and slope > -0.75):       \n",
    "                    if slope > 0:\n",
    "                        #print('right')\n",
    "\n",
    "                        frame_right_pos_avg[0] = frame_right_pos_avg[0] + x1 + x2\n",
    "                        frame_right_pos_avg[1] = frame_right_pos_avg[1] + y1 + y2 \n",
    "\n",
    "                        slope_right.mean, slope_right.M2, slope_right.count = calc_mean_welford(slope, slope_right.mean, slope_right.M2, slope_right.count)\n",
    "                    else: \n",
    "                        #print('left')\n",
    "                        frame_left_pos_avg[0] = frame_left_pos_avg[0] + x1 + x2 \n",
    "                        frame_left_pos_avg[1] = frame_left_pos_avg[1] + y1 + y2 \n",
    "\n",
    "                        slope_left.mean, slope_left.M2, slope_left.count = calc_mean_welford(slope, slope_left.mean, slope_left.M2, slope_left.count)\n",
    "                else: \n",
    "                    print('Outlier slope... skipping')\n",
    "    #print('--------------------------------------------')      \n",
    "                    \n",
    "    if slope_left.count > 0 and slope_right.count > 0:\n",
    "        left_pos_avg = frame_left_pos_avg / (slope_left.count*2) \n",
    "        right_pos_avg = frame_right_pos_avg / (slope_right.count*2)\n",
    " \n",
    "        slope_right.var = calc_var_welford(slope_right.count, slope_right.M2, slope_right.var)\n",
    "        #print('right_slope_mean: ', slope_right.mean, ' var: ', slope_right.var)     \n",
    "\n",
    "        slope_left.var = calc_var_welford(slope_left.count, slope_left.M2, slope_left.var)\n",
    "        #print('left_slope_mean: ', slope_left.mean, ' var: ', slope_left.var)   \n",
    "        \n",
    "        right_slope_avg = slope_right.mean \n",
    "        left_slope_avg = slope_left.mean \n",
    "    else:\n",
    "        print('No detections on right or left line - using previous results')\n",
    "    \n",
    "    #########################################################################\n",
    "    # Filtering calculated slopes \n",
    "    \n",
    "    # ---------------------------- Right slope  \n",
    "    plot_slope_right.append(slope_right.mean)\n",
    "    \n",
    "    filtered_slope_right.mean, filtered_slope_right.var = update(filtered_slope_right.mean,filtered_slope_right.var,slope_right.mean,0.1)#slope_right.var)\n",
    "    filtered_slope_right.mean, filtered_slope_right.var = predict(filtered_slope_right.mean,filtered_slope_right.var,0.0,0.0025)#0.000001)\n",
    "\n",
    "    plot_slope_right_filtered.append(filtered_slope_right.mean)\n",
    "\n",
    "    right_slope_avg = filtered_slope_right.mean\n",
    "    \n",
    "\n",
    "    # ---------------------------- left slope  \n",
    "    plot_slope_left.append(slope_left.mean)\n",
    "\n",
    "    filtered_slope_left.mean, filtered_slope_left.var = update(filtered_slope_left.mean,filtered_slope_left.var,slope_left.mean,0.1)#slope_left.var)\n",
    "    filtered_slope_left.mean, filtered_slope_left.var = predict(filtered_slope_left.mean,filtered_slope_left.var,0.0,0.0025)#0.000001)\n",
    "   \n",
    "    left_slope_avg = filtered_slope_left.mean\n",
    "\n",
    "    plot_slope_left_filtered.append(filtered_slope_left.mean)\n",
    "\n",
    "    #########################################################################\n",
    "    # Using line equation to calculate new lines from averaged slopes \n",
    "    # y = kx + d \n",
    "\n",
    "    # Calculating d translation on y axis of a line with the calculated slope running through the averages x,y coordinates \n",
    "    # d = y - kx \n",
    "\n",
    "    d_left = left_pos_avg[1] - left_slope_avg*left_pos_avg[0]\n",
    "    d_right = right_pos_avg[1] - right_slope_avg*right_pos_avg[0]\n",
    "\n",
    "    \n",
    "    # ---------------------------- Right d  \n",
    "    plot_d_right.append(d_right)\n",
    "    \n",
    "    filtered_d_right.mean, filtered_d_right.var = update(filtered_d_right.mean,filtered_d_right.var,d_right,10.0)\n",
    "    filtered_d_right.mean, filtered_d_right.var = predict(filtered_d_right.mean,filtered_d_right.var,0.0,1.5)\n",
    "   \n",
    "    plot_d_right_filtered.append(filtered_d_right.mean)\n",
    " \n",
    "    # ---------------------------- Left d  \n",
    "    plot_d_left.append(d_left)\n",
    "\n",
    "    filtered_d_left.mean, filtered_d_left.var = update(filtered_d_left.mean,filtered_d_left.var,d_left,10.0)\n",
    "    filtered_d_left.mean, filtered_d_left.var = predict(filtered_d_left.mean,filtered_d_left.var,0.0,1.5)\n",
    "    \n",
    "    plot_d_left_filtered.append(filtered_d_left.mean)\n",
    "    \n",
    "    d_right = filtered_d_right.mean\n",
    "    d_left = filtered_d_left.mean\n",
    "\n",
    "    \n",
    "    # Calculating x coordinates at max y (number of rows) --> where to start at the bottom of the image \n",
    "    # x = (y-d)/k\n",
    "    left_pos_avg[3]  = imshape[0]\n",
    "    right_pos_avg[3] = imshape[0]\n",
    "\n",
    "    left_pos_avg[2] = (left_pos_avg[3] - d_left)/left_slope_avg \n",
    "    right_pos_avg[2] = (right_pos_avg[3] - d_right)/(right_slope_avg)\n",
    "    \n",
    "    # Calculating second point for line drawing - 330 height is choosen so that they do not intersect \n",
    "    # --> Where to end the line so that it looks neat \n",
    "    corp_height = imshape[0] * 0.61\n",
    "    \n",
    "    left_pos_avg[0] =(corp_height - d_left)/(left_slope_avg)\n",
    "    left_pos_avg[1] = corp_height\n",
    "   \n",
    "    right_pos_avg[0] =(corp_height - d_right)/(right_slope_avg)\n",
    "    right_pos_avg[1] = corp_height \n",
    "   \n",
    "    # Drawing output image --> make a blank copy for overlay\n",
    "    image_overlay = np.copy(image)*0  \n",
    "    \n",
    "    # Drawing calculated lines on overlay image \n",
    "    cv2.line(image_overlay, (int(right_pos_avg[0]), int(right_pos_avg[1])), (int(right_pos_avg[2]), int(right_pos_avg[3])), [0, 255, 0], 16)\n",
    "    cv2.line(image_overlay, (int(left_pos_avg[0]), int(left_pos_avg[1])), (int(left_pos_avg[2]), int(left_pos_avg[3])), [0, 0, 255], 16)\n",
    "        \n",
    "    # Generating overlayed output image\n",
    "    result = weighted_img(image_overlay, image, 1.0, 0.8)\n",
    "        \n",
    "    # ---------------------- DEBUG -------------------------------\n",
    "    \n",
    "    # Debug messages - are there preprocessor directives in python!? \n",
    "    show_debug_messages = False\n",
    "    \n",
    "    if show_debug_messages == True: \n",
    "        print('---------------------------------------------')\n",
    "        print('d_left: ', d_left)\n",
    "        print('d_right: ', d_right)\n",
    "        print('right count', right_count)\n",
    "        print('left_count', left_count)\n",
    "        print('left slope average: ', left_slope_avg)\n",
    "        print('right slope average: ', right_slope_avg)\n",
    "        print('right pos average x1: ', right_pos_avg[0], ' y1:',  right_pos_avg[1], 'x2: ', right_pos_avg[2], ' y2:',  right_pos_avg[3])\n",
    "        print('left pos average x1: ', left_pos_avg[0], ' y1:',  left_pos_avg[1], 'x2: ', left_pos_avg[2], ' y2:',  left_pos_avg[3])\n",
    "\n",
    "    show_hough_line_image = False\n",
    "    \n",
    "    if show_hough_line_image == True:\n",
    "        line_image = np.zeros((image.shape[0], image.shape[1], 3), dtype=np.uint8)\n",
    "\n",
    "        cv2.line(line_image, (int(imshape[1]*bottom_left_roi_scale_x), int(imshape[0]*bottom_left_roi_scale_y)), (int(imshape[1]*top_left_roi_scale_x), int(imshape[0]*top_left_roi_scale_y)), [0, 255, 0], 1)\n",
    "        cv2.line(line_image, (int(imshape[1]*top_left_roi_scale_x), int(imshape[0]*top_left_roi_scale_y)), (int(imshape[1]*top_right_roi_scale_x), int(imshape[0]*top_right_roi_scale_y)), [0, 255, 0], 1)\n",
    "        cv2.line(line_image, (int(imshape[1]*top_right_roi_scale_x), int(imshape[0]*top_right_roi_scale_y)), (int(imshape[1]*bottom_right_scale_x), int(imshape[0]*bottom_right_scale_y)), [0, 255, 0], 1)\n",
    "        cv2.line(line_image, (int(imshape[1]*bottom_right_scale_x), int(imshape[0]*bottom_right_scale_y)), (int(imshape[1]*bottom_left_roi_scale_x), int(imshape[0]*bottom_left_roi_scale_y)), [0, 255, 0], 1)\n",
    "\n",
    "\n",
    "        draw_lines(line_image, lines)\n",
    "        result = weighted_img(line_image, image, 1.0, 0.8)\n",
    "         \n",
    "    return result"
   ]
  },
  {
   "cell_type": "code",
   "execution_count": 24,
   "metadata": {},
   "outputs": [
    {
     "name": "stdout",
     "output_type": "stream",
     "text": [
      "Outlier slope... skipping\n",
      "Outlier slope... skipping\n",
      "[MoviePy] >>>> Building video test_videos_output/solidWhiteRight.mp4\n",
      "[MoviePy] Writing video test_videos_output/solidWhiteRight.mp4\n"
     ]
    },
    {
     "name": "stderr",
     "output_type": "stream",
     "text": [
      "  2%|▏         | 5/222 [00:00<00:04, 44.59it/s]"
     ]
    },
    {
     "name": "stdout",
     "output_type": "stream",
     "text": [
      "Outlier slope... skipping\n",
      "Outlier slope... skipping\n",
      "Outlier slope... skipping\n",
      "Outlier slope... skipping\n",
      "Outlier slope... skipping\n",
      "Outlier slope... skipping\n",
      "Outlier slope... skipping\n",
      "Outlier slope... skipping\n",
      "No detections on right or left line - using previous results\n",
      "Outlier slope... skipping\n"
     ]
    },
    {
     "name": "stderr",
     "output_type": "stream",
     "text": [
      "  7%|▋         | 16/222 [00:00<00:04, 47.43it/s]"
     ]
    },
    {
     "name": "stdout",
     "output_type": "stream",
     "text": [
      "Outlier slope... skipping\n",
      "Outlier slope... skipping\n",
      "Outlier slope... skipping\n",
      "Outlier slope... skipping\n"
     ]
    },
    {
     "name": "stderr",
     "output_type": "stream",
     "text": [
      " 18%|█▊        | 39/222 [00:00<00:03, 51.74it/s]"
     ]
    },
    {
     "name": "stdout",
     "output_type": "stream",
     "text": [
      "Outlier slope... skipping\n",
      "Outlier slope... skipping\n",
      "Outlier slope... skipping\n",
      "Outlier slope... skipping\n",
      "Outlier slope... skipping\n",
      "Outlier slope... skipping\n",
      "Outlier slope... skipping\n"
     ]
    },
    {
     "name": "stderr",
     "output_type": "stream",
     "text": [
      "\r",
      " 20%|█▉        | 44/222 [00:00<00:03, 48.94it/s]"
     ]
    },
    {
     "name": "stdout",
     "output_type": "stream",
     "text": [
      "Outlier slope... skipping\n",
      "Outlier slope... skipping\n",
      "Outlier slope... skipping\n",
      "Outlier slope... skipping\n",
      "Outlier slope... skipping\n",
      "Outlier slope... skipping\n"
     ]
    },
    {
     "name": "stderr",
     "output_type": "stream",
     "text": [
      " 24%|██▍       | 53/222 [00:01<00:05, 31.76it/s]"
     ]
    },
    {
     "name": "stdout",
     "output_type": "stream",
     "text": [
      "Outlier slope... skipping\n",
      "Outlier slope... skipping\n",
      "Outlier slope... skipping\n",
      "Outlier slope... skipping\n",
      "Outlier slope... skipping\n"
     ]
    },
    {
     "name": "stderr",
     "output_type": "stream",
     "text": [
      " 52%|█████▏    | 116/222 [00:03<00:04, 25.78it/s]"
     ]
    },
    {
     "name": "stdout",
     "output_type": "stream",
     "text": [
      "Outlier slope... skipping\n"
     ]
    },
    {
     "name": "stderr",
     "output_type": "stream",
     "text": [
      " 64%|██████▎   | 141/222 [00:04<00:02, 29.47it/s]"
     ]
    },
    {
     "name": "stdout",
     "output_type": "stream",
     "text": [
      "Outlier slope... skipping\n"
     ]
    },
    {
     "name": "stderr",
     "output_type": "stream",
     "text": [
      " 67%|██████▋   | 148/222 [00:05<00:02, 26.67it/s]"
     ]
    },
    {
     "name": "stdout",
     "output_type": "stream",
     "text": [
      "Outlier slope... skipping\n",
      "Outlier slope... skipping\n",
      "Outlier slope... skipping\n",
      "Outlier slope... skipping\n",
      "Outlier slope... skipping\n",
      "Outlier slope... skipping\n",
      "Outlier slope... skipping\n",
      "Outlier slope... skipping\n"
     ]
    },
    {
     "name": "stderr",
     "output_type": "stream",
     "text": [
      " 69%|██████▉   | 154/222 [00:05<00:02, 23.72it/s]"
     ]
    },
    {
     "name": "stdout",
     "output_type": "stream",
     "text": [
      "Outlier slope... skipping\n",
      "Outlier slope... skipping\n",
      "No detections on right or left line - using previous results\n",
      "Outlier slope... skipping\n",
      "Outlier slope... skipping\n",
      "Outlier slope... skipping\n",
      "Outlier slope... skipping\n"
     ]
    },
    {
     "name": "stderr",
     "output_type": "stream",
     "text": [
      " 73%|███████▎  | 161/222 [00:05<00:02, 23.59it/s]"
     ]
    },
    {
     "name": "stdout",
     "output_type": "stream",
     "text": [
      "Outlier slope... skipping\n",
      "Outlier slope... skipping\n",
      "Outlier slope... skipping\n",
      "Outlier slope... skipping\n",
      "Outlier slope... skipping\n",
      "Outlier slope... skipping\n",
      "No detections on right or left line - using previous results\n"
     ]
    },
    {
     "name": "stderr",
     "output_type": "stream",
     "text": [
      " 75%|███████▌  | 167/222 [00:05<00:02, 22.65it/s]"
     ]
    },
    {
     "name": "stdout",
     "output_type": "stream",
     "text": [
      "Outlier slope... skipping\n",
      "Outlier slope... skipping\n",
      "Outlier slope... skipping\n",
      "Outlier slope... skipping\n",
      "Outlier slope... skipping\n",
      "Outlier slope... skipping\n",
      "Outlier slope... skipping\n",
      "Outlier slope... skipping\n",
      "Outlier slope... skipping\n",
      "Outlier slope... skipping\n",
      "Outlier slope... skipping\n",
      "Outlier slope... skipping\n",
      "Outlier slope... skipping\n",
      "No detections on right or left line - using previous results\n"
     ]
    },
    {
     "name": "stderr",
     "output_type": "stream",
     "text": [
      "\r",
      " 77%|███████▋  | 170/222 [00:05<00:02, 23.26it/s]"
     ]
    },
    {
     "name": "stdout",
     "output_type": "stream",
     "text": [
      "Outlier slope... skipping\n",
      "Outlier slope... skipping\n",
      "Outlier slope... skipping\n",
      "Outlier slope... skipping\n",
      "Outlier slope... skipping\n",
      "Outlier slope... skipping\n",
      "Outlier slope... skipping\n",
      "Outlier slope... skipping\n",
      "Outlier slope... skipping\n",
      "No detections on right or left line - using previous results\n"
     ]
    },
    {
     "name": "stderr",
     "output_type": "stream",
     "text": [
      " 80%|███████▉  | 177/222 [00:06<00:01, 24.94it/s]"
     ]
    },
    {
     "name": "stdout",
     "output_type": "stream",
     "text": [
      "Outlier slope... skipping\n",
      "No detections on right or left line - using previous results\n",
      "Outlier slope... skipping\n",
      "Outlier slope... skipping\n",
      "No detections on right or left line - using previous results\n",
      "Outlier slope... skipping\n",
      "Outlier slope... skipping\n",
      "No detections on right or left line - using previous results\n",
      "Outlier slope... skipping\n",
      "Outlier slope... skipping\n",
      "No detections on right or left line - using previous results\n",
      "Outlier slope... skipping\n",
      "Outlier slope... skipping\n",
      "Outlier slope... skipping\n",
      "Outlier slope... skipping\n",
      "No detections on right or left line - using previous results\n"
     ]
    },
    {
     "name": "stderr",
     "output_type": "stream",
     "text": [
      " 83%|████████▎ | 184/222 [00:06<00:01, 24.10it/s]"
     ]
    },
    {
     "name": "stdout",
     "output_type": "stream",
     "text": [
      "Outlier slope... skipping\n",
      "Outlier slope... skipping\n",
      "Outlier slope... skipping\n",
      "No detections on right or left line - using previous results\n",
      "Outlier slope... skipping\n",
      "Outlier slope... skipping\n",
      "Outlier slope... skipping\n",
      "Outlier slope... skipping\n",
      "No detections on right or left line - using previous results\n",
      "Outlier slope... skipping\n",
      "Outlier slope... skipping\n",
      "Outlier slope... skipping\n",
      "No detections on right or left line - using previous results\n",
      "Outlier slope... skipping\n",
      "Outlier slope... skipping\n",
      "Outlier slope... skipping\n",
      "Outlier slope... skipping\n",
      "No detections on right or left line - using previous results\n",
      "Outlier slope... skipping\n",
      "Outlier slope... skipping\n",
      "Outlier slope... skipping\n",
      "Outlier slope... skipping\n",
      "Outlier slope... skipping\n",
      "Outlier slope... skipping\n",
      "Outlier slope... skipping\n",
      "No detections on right or left line - using previous results\n",
      "Outlier slope... skipping\n",
      "Outlier slope... skipping\n",
      "Outlier slope... skipping\n",
      "Outlier slope... skipping\n",
      "No detections on right or left line - using previous results\n"
     ]
    },
    {
     "name": "stderr",
     "output_type": "stream",
     "text": [
      "\r",
      " 84%|████████▍ | 187/222 [00:06<00:01, 22.75it/s]"
     ]
    },
    {
     "name": "stdout",
     "output_type": "stream",
     "text": [
      "No detections on right or left line - using previous results\n",
      "Outlier slope... skipping\n",
      "Outlier slope... skipping\n",
      "No detections on right or left line - using previous results\n",
      "Outlier slope... skipping\n",
      "Outlier slope... skipping\n",
      "No detections on right or left line - using previous results\n",
      "Outlier slope... skipping\n",
      "Outlier slope... skipping\n",
      "No detections on right or left line - using previous results\n",
      "Outlier slope... skipping\n",
      "Outlier slope... skipping\n",
      "Outlier slope... skipping\n",
      "No detections on right or left line - using previous results\n",
      "Outlier slope... skipping\n",
      "Outlier slope... skipping\n",
      "Outlier slope... skipping\n",
      "No detections on right or left line - using previous results\n"
     ]
    },
    {
     "name": "stderr",
     "output_type": "stream",
     "text": [
      " 88%|████████▊ | 195/222 [00:06<00:01, 25.78it/s]"
     ]
    },
    {
     "name": "stdout",
     "output_type": "stream",
     "text": [
      "Outlier slope... skipping\n",
      "Outlier slope... skipping\n",
      "Outlier slope... skipping\n",
      "No detections on right or left line - using previous results\n",
      "Outlier slope... skipping\n",
      "Outlier slope... skipping\n",
      "Outlier slope... skipping\n",
      "Outlier slope... skipping\n",
      "Outlier slope... skipping\n",
      "Outlier slope... skipping\n",
      "Outlier slope... skipping\n",
      "No detections on right or left line - using previous results\n",
      "Outlier slope... skipping\n",
      "Outlier slope... skipping\n",
      "Outlier slope... skipping\n",
      "Outlier slope... skipping\n",
      "No detections on right or left line - using previous results\n",
      "Outlier slope... skipping\n",
      "Outlier slope... skipping\n",
      "Outlier slope... skipping\n",
      "Outlier slope... skipping\n",
      "No detections on right or left line - using previous results\n",
      "Outlier slope... skipping\n"
     ]
    },
    {
     "name": "stderr",
     "output_type": "stream",
     "text": [
      " 91%|█████████ | 201/222 [00:07<00:00, 25.52it/s]"
     ]
    },
    {
     "name": "stdout",
     "output_type": "stream",
     "text": [
      "No detections on right or left line - using previous results\n",
      "Outlier slope... skipping\n",
      "Outlier slope... skipping\n",
      "No detections on right or left line - using previous results\n",
      "Outlier slope... skipping\n",
      "Outlier slope... skipping\n",
      "No detections on right or left line - using previous results\n",
      "Outlier slope... skipping\n",
      "Outlier slope... skipping\n",
      "Outlier slope... skipping\n",
      "Outlier slope... skipping\n",
      "No detections on right or left line - using previous results\n",
      "Outlier slope... skipping"
     ]
    },
    {
     "name": "stderr",
     "output_type": "stream",
     "text": [
      " 94%|█████████▎| 208/222 [00:07<00:00, 24.82it/s]"
     ]
    },
    {
     "name": "stdout",
     "output_type": "stream",
     "text": [
      "\n",
      "Outlier slope... skipping\n",
      "No detections on right or left line - using previous results\n",
      "Outlier slope... skipping\n",
      "Outlier slope... skipping\n",
      "Outlier slope... skipping\n",
      "Outlier slope... skipping\n",
      "No detections on right or left line - using previous results\n",
      "Outlier slope... skipping\n",
      "Outlier slope... skipping\n",
      "Outlier slope... skipping\n",
      "Outlier slope... skipping\n",
      "No detections on right or left line - using previous results\n",
      "Outlier slope... skipping\n",
      "Outlier slope... skipping\n",
      "Outlier slope... skipping\n",
      "Outlier slope... skipping\n",
      "Outlier slope... skipping\n",
      "Outlier slope... skipping\n",
      "No detections on right or left line - using previous results\n",
      "Outlier slope... skipping\n",
      "Outlier slope... skipping\n",
      "Outlier slope... skipping\n",
      "Outlier slope... skipping\n",
      "Outlier slope... skipping\n",
      "Outlier slope... skipping\n",
      "Outlier slope... skipping\n",
      "No detections on right or left line - using previous results\n"
     ]
    },
    {
     "name": "stderr",
     "output_type": "stream",
     "text": [
      "\r",
      " 95%|█████████▌| 212/222 [00:07<00:00, 26.83it/s]"
     ]
    },
    {
     "name": "stdout",
     "output_type": "stream",
     "text": [
      "No detections on right or left line - using previous results\n",
      "Outlier slope... skipping\n",
      "No detections on right or left line - using previous results\n",
      "Outlier slope... skipping\n",
      "Outlier slope... skipping\n",
      "No detections on right or left line - using previous results\n",
      "Outlier slope... skipping\n",
      "Outlier slope... skipping\n",
      "No detections on right or left line - using previous results\n",
      "Outlier slope... skipping\n",
      "Outlier slope... skipping\n",
      "Outlier slope... skipping\n",
      "No detections on right or left line - using previous results\n",
      "Outlier slope... skipping\n",
      "Outlier slope... skipping\n",
      "No detections on right or left line - using previous results\n"
     ]
    },
    {
     "name": "stderr",
     "output_type": "stream",
     "text": [
      " 98%|█████████▊| 218/222 [00:07<00:00, 25.09it/s]"
     ]
    },
    {
     "name": "stdout",
     "output_type": "stream",
     "text": [
      "Outlier slope... skipping\n",
      "Outlier slope... skipping\n",
      "Outlier slope... skipping\n",
      "No detections on right or left line - using previous results\n",
      "Outlier slope... skipping\n",
      "Outlier slope... skipping\n",
      "Outlier slope... skipping\n",
      "Outlier slope... skipping\n",
      "No detections on right or left line - using previous results\n",
      "Outlier slope... skipping\n",
      "Outlier slope... skipping\n",
      "Outlier slope... skipping\n",
      "Outlier slope... skipping\n",
      "No detections on right or left line - using previous results\n",
      "Outlier slope... skipping\n",
      "Outlier slope... skipping\n",
      "Outlier slope... skipping\n",
      "Outlier slope... skipping\n",
      "No detections on right or left line - using previous results\n",
      "Outlier slope... skipping\n",
      "Outlier slope... skipping\n",
      "Outlier slope... skipping\n"
     ]
    },
    {
     "name": "stderr",
     "output_type": "stream",
     "text": [
      "100%|█████████▉| 221/222 [00:07<00:00, 25.43it/s]\n"
     ]
    },
    {
     "name": "stdout",
     "output_type": "stream",
     "text": [
      "Outlier slope... skipping\n",
      "Outlier slope... skipping\n",
      "[MoviePy] Done.\n",
      "[MoviePy] >>>> Video ready: test_videos_output/solidWhiteRight.mp4 \n",
      "\n",
      "CPU times: user 5.46 s, sys: 248 ms, total: 5.71 s\n",
      "Wall time: 8.98 s\n"
     ]
    }
   ],
   "source": [
    "white_output = 'test_videos_output/solidWhiteRight.mp4'\n",
    "## To speed up the testing process you may want to try your pipeline on a shorter subclip of the video\n",
    "## To do so add .subclip(start_second,end_second) to the end of the line below\n",
    "## Where start_second and end_second are integer values representing the start and end of the subclip\n",
    "## You may also uncomment the following line for a subclip of the first 5 seconds\n",
    "\n",
    "#clip1 = VideoFileClip(\"test_videos/solidWhiteRight.mp4\").subclip(0,1)\n",
    "clip1 = VideoFileClip(\"test_videos/solidWhiteRight.mp4\")\n",
    "white_clip = clip1.fl_image(process_image) #NOTE: this function expects color images!!\n",
    "%time white_clip.write_videofile(white_output, audio=False)"
   ]
  },
  {
   "cell_type": "code",
   "execution_count": 25,
   "metadata": {},
   "outputs": [
    {
     "data": {
      "image/png": "[encoded data removed]",
      "text/plain": [
       "<matplotlib.figure.Figure at 0x7ff982a15748>"
      ]
     },
     "metadata": {},
     "output_type": "display_data"
    }
   ],
   "source": [
    "red_patch = mpatches.Patch(color='red', label='d right')\n",
    "green_patch = mpatches.Patch(color='green', label='d right filtered')\n",
    "plt.legend(handles=[red_patch, green_patch])\n",
    "plt.ylabel('Pixel')\n",
    "plt.xlabel('Frame')\n",
    "\n",
    "plt.plot(frame, plot_d_right, 'r--', frame, plot_d_right_filtered, 'g--')\n",
    "plt.show()"
   ]
  },
  {
   "cell_type": "code",
   "execution_count": 26,
   "metadata": {},
   "outputs": [
    {
     "data": {
      "image/png": "[encoded data removed]",
      "text/plain": [
       "<matplotlib.figure.Figure at 0x7ff99498c860>"
      ]
     },
     "metadata": {},
     "output_type": "display_data"
    }
   ],
   "source": [
    "red_patch = mpatches.Patch(color='red', label='d left')\n",
    "green_patch = mpatches.Patch(color='green', label='d left filtered')\n",
    "plt.legend(handles=[red_patch, green_patch])\n",
    "plt.ylabel('Pixel')\n",
    "plt.xlabel('Frame')\n",
    "\n",
    "plt.plot(frame, plot_d_left, 'r--', frame, plot_d_left_filtered, 'g--')\n",
    "plt.show()"
   ]
  },
  {
   "cell_type": "code",
   "execution_count": 27,
   "metadata": {},
   "outputs": [
    {
     "data": {
      "image/png": "[encoded data removed]",
      "text/plain": [
       "<matplotlib.figure.Figure at 0x7ff9826cf588>"
      ]
     },
     "metadata": {},
     "output_type": "display_data"
    }
   ],
   "source": [
    "red_patch = mpatches.Patch(color='red', label='slope left')\n",
    "green_patch = mpatches.Patch(color='green', label='slope left filtered')\n",
    "plt.legend(handles=[red_patch, green_patch])\n",
    "plt.ylabel('Pixel')\n",
    "plt.xlabel('Frame')\n",
    "\n",
    "plt.plot(frame, plot_slope_left, 'r--', frame, plot_slope_left_filtered, 'g--')\n",
    "plt.show()"
   ]
  },
  {
   "cell_type": "code",
   "execution_count": 28,
   "metadata": {},
   "outputs": [
    {
     "data": {
      "image/png": "[encoded data removed]",
      "text/plain": [
       "<matplotlib.figure.Figure at 0x7ff982d4c7b8>"
      ]
     },
     "metadata": {},
     "output_type": "display_data"
    }
   ],
   "source": [
    "red_patch = mpatches.Patch(color='red', label='slope right')\n",
    "green_patch = mpatches.Patch(color='green', label='slope right filtered')\n",
    "plt.legend(handles=[red_patch, green_patch])\n",
    "plt.ylabel('Pixel')\n",
    "plt.xlabel('Frame')\n",
    "\n",
    "plt.plot(frame, plot_slope_right, 'r--', frame, plot_slope_right_filtered, 'g--')\n",
    "plt.show()"
   ]
  },
  {
   "cell_type": "code",
   "execution_count": 29,
   "metadata": {
    "scrolled": true
   },
   "outputs": [
    {
     "data": {
      "text/html": [
       "\n",
       "<video width=\"960\" height=\"540\" controls>\n",
       "  <source src=\"test_videos_output/solidWhiteRight.mp4\">\n",
       "</video>\n"
      ],
      "text/plain": [
       "<IPython.core.display.HTML object>"
      ]
     },
     "execution_count": 29,
     "metadata": {},
     "output_type": "execute_result"
    }
   ],
   "source": [
    "HTML(\"\"\"\n",
    "<video width=\"960\" height=\"540\" controls>\n",
    "  <source src=\"{0}\">\n",
    "</video>\n",
    "\"\"\".format(white_output))"
   ]
  },
  {
   "cell_type": "code",
   "execution_count": 30,
   "metadata": {},
   "outputs": [
    {
     "name": "stdout",
     "output_type": "stream",
     "text": [
      "[MoviePy] >>>> Building video test_videos_output/solidYellowLeft.mp4\n",
      "[MoviePy] Writing video test_videos_output/solidYellowLeft.mp4\n"
     ]
    },
    {
     "name": "stderr",
     "output_type": "stream",
     "text": [
      "  5%|▌         | 37/682 [00:00<00:11, 57.98it/s]"
     ]
    },
    {
     "name": "stdout",
     "output_type": "stream",
     "text": [
      "Outlier slope... skipping\n",
      "Outlier slope... skipping\n",
      "Outlier slope... skipping\n",
      "Outlier slope... skipping\n",
      "Outlier slope... skipping\n",
      "Outlier slope... skipping\n",
      "Outlier slope... skipping\n",
      "Outlier slope... skipping\n",
      "Outlier slope... skipping\n",
      "Outlier slope... skipping\n",
      "Outlier slope... skipping\n",
      "Outlier slope... skipping\n",
      "Outlier slope... skipping\n",
      "Outlier slope... skipping\n",
      "Outlier slope... skipping\n",
      "Outlier slope... skipping\n",
      "Outlier slope... skipping\n",
      "Outlier slope... skipping\n",
      "Outlier slope... skipping\n",
      "Outlier slope... skipping\n",
      "Outlier slope... skipping\n",
      "Outlier slope... skipping\n"
     ]
    },
    {
     "name": "stderr",
     "output_type": "stream",
     "text": [
      "\r",
      "  6%|▋         | 43/682 [00:00<00:11, 55.16it/s]"
     ]
    },
    {
     "name": "stdout",
     "output_type": "stream",
     "text": [
      "Outlier slope... skipping\n",
      "Outlier slope... skipping\n",
      "Outlier slope... skipping\n",
      "Outlier slope... skipping\n",
      "Outlier slope... skipping\n",
      "Outlier slope... skipping\n",
      "Outlier slope... skipping\n",
      "Outlier slope... skipping\n",
      "Outlier slope... skipping\n",
      "Outlier slope... skipping\n",
      "Outlier slope... skipping\n",
      "Outlier slope... skipping\n",
      "Outlier slope... skipping\n",
      "Outlier slope... skipping\n",
      "Outlier slope... skipping\n",
      "Outlier slope... skipping\n",
      "Outlier slope... skipping\n"
     ]
    },
    {
     "name": "stderr",
     "output_type": "stream",
     "text": [
      "  8%|▊         | 54/682 [00:01<00:16, 36.97it/s]"
     ]
    },
    {
     "name": "stdout",
     "output_type": "stream",
     "text": [
      "Outlier slope... skipping\n",
      "Outlier slope... skipping\n",
      "Outlier slope... skipping\n",
      "Outlier slope... skipping\n",
      "Outlier slope... skipping\n",
      "Outlier slope... skipping\n",
      "Outlier slope... skipping\n",
      "Outlier slope... skipping\n",
      "Outlier slope... skipping\n",
      "Outlier slope... skipping\n",
      "Outlier slope... skipping\n",
      "Outlier slope... skipping\n",
      "Outlier slope... skipping\n",
      "Outlier slope... skipping\n",
      "Outlier slope... skipping\n"
     ]
    },
    {
     "name": "stderr",
     "output_type": "stream",
     "text": [
      "\r",
      "  9%|▊         | 59/682 [00:01<00:19, 32.25it/s]"
     ]
    },
    {
     "name": "stdout",
     "output_type": "stream",
     "text": [
      "Outlier slope... skipping\n",
      "Outlier slope... skipping\n",
      "Outlier slope... skipping\n",
      "Outlier slope... skipping\n",
      "Outlier slope... skipping\n",
      "Outlier slope... skipping\n",
      "Outlier slope... skipping\n",
      "Outlier slope... skipping\n",
      "Outlier slope... skipping\n"
     ]
    },
    {
     "name": "stderr",
     "output_type": "stream",
     "text": [
      " 24%|██▎       | 161/682 [00:05<00:19, 26.30it/s]"
     ]
    },
    {
     "name": "stdout",
     "output_type": "stream",
     "text": [
      "Outlier slope... skipping\n",
      "Outlier slope... skipping\n",
      "Outlier slope... skipping\n",
      "Outlier slope... skipping\n",
      "Outlier slope... skipping\n"
     ]
    },
    {
     "name": "stderr",
     "output_type": "stream",
     "text": [
      " 25%|██▍       | 168/682 [00:05<00:21, 23.87it/s]"
     ]
    },
    {
     "name": "stdout",
     "output_type": "stream",
     "text": [
      "Outlier slope... skipping\n",
      "Outlier slope... skipping\n"
     ]
    },
    {
     "name": "stderr",
     "output_type": "stream",
     "text": [
      " 26%|██▌       | 176/682 [00:05<00:19, 25.95it/s]"
     ]
    },
    {
     "name": "stdout",
     "output_type": "stream",
     "text": [
      "Outlier slope... skipping\n",
      "Outlier slope... skipping\n",
      "Outlier slope... skipping\n",
      "Outlier slope... skipping\n",
      "Outlier slope... skipping\n",
      "Outlier slope... skipping\n",
      "Outlier slope... skipping\n",
      "Outlier slope... skipping\n",
      "Outlier slope... skipping\n",
      "Outlier slope... skipping\n",
      "Outlier slope... skipping"
     ]
    },
    {
     "name": "stderr",
     "output_type": "stream",
     "text": [
      "\r",
      " 26%|██▌       | 179/682 [00:05<00:21, 22.93it/s]"
     ]
    },
    {
     "name": "stdout",
     "output_type": "stream",
     "text": [
      "\n",
      "Outlier slope... skipping\n",
      "Outlier slope... skipping\n",
      "Outlier slope... skipping\n",
      "Outlier slope... skipping\n",
      "Outlier slope... skipping\n",
      "Outlier slope... skipping\n",
      "Outlier slope... skipping\n",
      "Outlier slope... skipping\n",
      "Outlier slope... skipping\n",
      "Outlier slope... skipping\n",
      "Outlier slope... skipping\n",
      "Outlier slope... skipping\n",
      "Outlier slope... skipping\n",
      "Outlier slope... skipping\n",
      "Outlier slope... skipping\n",
      "Outlier slope... skipping\n",
      "Outlier slope... skipping\n",
      "Outlier slope... skipping\n",
      "Outlier slope... skipping\n"
     ]
    },
    {
     "name": "stderr",
     "output_type": "stream",
     "text": [
      "\r",
      " 27%|██▋       | 182/682 [00:05<00:20, 23.99it/s]"
     ]
    },
    {
     "name": "stdout",
     "output_type": "stream",
     "text": [
      "Outlier slope... skipping\n",
      "Outlier slope... skipping\n",
      "Outlier slope... skipping\n",
      "Outlier slope... skipping\n",
      "Outlier slope... skipping\n",
      "Outlier slope... skipping\n",
      "Outlier slope... skipping\n",
      "Outlier slope... skipping\n",
      "Outlier slope... skipping\n",
      "No detections on right or left line - using previous results\n",
      "Outlier slope... skipping\n",
      "Outlier slope... skipping\n",
      "Outlier slope... skipping\n",
      "Outlier slope... skipping\n",
      "Outlier slope... skipping\n",
      "Outlier slope... skipping\n",
      "Outlier slope... skipping\n",
      "Outlier slope... skipping\n",
      "Outlier slope... skipping\n",
      "Outlier slope... skipping\n",
      "Outlier slope... skipping\n",
      "No detections on right or left line - using previous results\n",
      "Outlier slope... skipping\n",
      "Outlier slope... skipping\n",
      "Outlier slope... skipping\n",
      "Outlier slope... skipping\n",
      "Outlier slope... skipping\n",
      "Outlier slope... skipping\n",
      "Outlier slope... skipping\n",
      "No detections on right or left line - using previous results\n"
     ]
    },
    {
     "name": "stderr",
     "output_type": "stream",
     "text": [
      " 28%|██▊       | 189/682 [00:06<00:20, 23.49it/s]"
     ]
    },
    {
     "name": "stdout",
     "output_type": "stream",
     "text": [
      "Outlier slope... skipping\n",
      "Outlier slope... skipping\n",
      "Outlier slope... skipping\n",
      "Outlier slope... skipping\n",
      "Outlier slope... skipping\n",
      "Outlier slope... skipping\n",
      "Outlier slope... skipping\n",
      "Outlier slope... skipping\n",
      "No detections on right or left line - using previous results\n",
      "Outlier slope... skipping\n",
      "Outlier slope... skipping\n",
      "Outlier slope... skipping\n",
      "Outlier slope... skipping\n",
      "Outlier slope... skipping\n",
      "Outlier slope... skipping\n",
      "Outlier slope... skipping\n",
      "Outlier slope... skipping\n",
      "No detections on right or left line - using previous results\n",
      "Outlier slope... skipping\n",
      "Outlier slope... skipping\n",
      "Outlier slope... skipping\n",
      "Outlier slope... skipping\n",
      "Outlier slope... skipping\n",
      "Outlier slope... skipping\n",
      "Outlier slope... skipping\n",
      "Outlier slope... skipping\n",
      "No detections on right or left line - using previous results\n",
      "Outlier slope... skipping\n",
      "Outlier slope... skipping\n",
      "Outlier slope... skipping\n",
      "Outlier slope... skipping\n",
      "Outlier slope... skipping\n",
      "Outlier slope... skipping\n",
      "Outlier slope... skipping\n",
      "Outlier slope... skipping\n",
      "Outlier slope... skipping\n",
      "Outlier slope... skipping\n",
      "Outlier slope... skipping\n",
      "Outlier slope... skipping\n",
      "Outlier slope... skipping\n",
      "No detections on right or left line - using previous results\n",
      "Outlier slope... skipping\n",
      "Outlier slope... skipping\n",
      "Outlier slope... skipping\n",
      "Outlier slope... skipping\n",
      "Outlier slope... skipping\n",
      "Outlier slope... skipping\n",
      "Outlier slope... skipping\n",
      "No detections on right or left line - using previous results\n",
      "Outlier slope... skipping\n",
      "Outlier slope... skipping\n",
      "Outlier slope... skipping\n",
      "Outlier slope... skipping\n",
      "Outlier slope... skipping\n",
      "Outlier slope... skipping\n",
      "Outlier slope... skipping\n",
      "Outlier slope... skipping\n",
      "No detections on right or left line - using previous results\n",
      "Outlier slope... skipping\n",
      "Outlier slope... skipping\n",
      "Outlier slope... skipping\n",
      "Outlier slope... skipping\n",
      "Outlier slope... skipping\n",
      "Outlier slope... skipping\n",
      "No detections on right or left line - using previous results\n"
     ]
    },
    {
     "name": "stderr",
     "output_type": "stream",
     "text": [
      " 29%|██▉       | 197/682 [00:06<00:19, 25.52it/s]"
     ]
    },
    {
     "name": "stdout",
     "output_type": "stream",
     "text": [
      "Outlier slope... skipping\n",
      "Outlier slope... skipping\n",
      "Outlier slope... skipping\n",
      "Outlier slope... skipping\n",
      "Outlier slope... skipping\n",
      "Outlier slope... skipping\n",
      "No detections on right or left line - using previous results\n",
      "Outlier slope... skipping\n",
      "Outlier slope... skipping\n",
      "Outlier slope... skipping\n",
      "Outlier slope... skipping\n",
      "Outlier slope... skipping\n",
      "Outlier slope... skipping\n",
      "No detections on right or left line - using previous results\n",
      "Outlier slope... skipping\n",
      "Outlier slope... skipping\n",
      "Outlier slope... skipping\n",
      "Outlier slope... skipping\n",
      "Outlier slope... skipping\n",
      "Outlier slope... skipping\n",
      "Outlier slope... skipping\n",
      "No detections on right or left line - using previous results\n",
      "Outlier slope... skipping\n",
      "Outlier slope... skipping\n",
      "Outlier slope... skipping\n",
      "Outlier slope... skipping\n",
      "Outlier slope... skipping\n",
      "Outlier slope... skipping\n",
      "Outlier slope... skipping\n",
      "No detections on right or left line - using previous results\n",
      "Outlier slope... skipping\n",
      "Outlier slope... skipping\n",
      "Outlier slope... skipping\n",
      "Outlier slope... skipping\n",
      "Outlier slope... skipping\n",
      "Outlier slope... skipping\n",
      "Outlier slope... skipping\n",
      "No detections on right or left line - using previous results\n",
      "Outlier slope... skipping\n",
      "Outlier slope... skipping\n",
      "Outlier slope... skipping\n",
      "Outlier slope... skipping\n",
      "Outlier slope... skipping\n",
      "Outlier slope... skipping\n",
      "No detections on right or left line - using previous results\n",
      "Outlier slope... skipping\n",
      "Outlier slope... skipping\n",
      "Outlier slope... skipping\n",
      "Outlier slope... skipping\n",
      "Outlier slope... skipping\n",
      "Outlier slope... skipping\n",
      "No detections on right or left line - using previous results\n"
     ]
    },
    {
     "name": "stderr",
     "output_type": "stream",
     "text": [
      " 30%|██▉       | 204/682 [00:06<00:17, 27.49it/s]"
     ]
    },
    {
     "name": "stdout",
     "output_type": "stream",
     "text": [
      "Outlier slope... skipping\n",
      "Outlier slope... skipping\n",
      "Outlier slope... skipping\n",
      "Outlier slope... skipping\n",
      "Outlier slope... skipping\n",
      "Outlier slope... skipping\n",
      "Outlier slope... skipping\n",
      "Outlier slope... skipping\n",
      "No detections on right or left line - using previous results\n",
      "Outlier slope... skipping\n",
      "Outlier slope... skipping\n",
      "Outlier slope... skipping\n",
      "Outlier slope... skipping\n",
      "Outlier slope... skipping\n",
      "Outlier slope... skipping\n",
      "Outlier slope... skipping\n",
      "No detections on right or left line - using previous results\n",
      "Outlier slope... skipping\n",
      "Outlier slope... skipping\n",
      "Outlier slope... skipping\n",
      "Outlier slope... skipping\n",
      "Outlier slope... skipping\n",
      "Outlier slope... skipping\n",
      "Outlier slope... skipping\n",
      "Outlier slope... skipping\n",
      "Outlier slope... skipping\n",
      "Outlier slope... skipping\n",
      "Outlier slope... skipping\n",
      "Outlier slope... skipping\n",
      "Outlier slope... skipping\n",
      "Outlier slope... skipping\n",
      "Outlier slope... skipping\n",
      "Outlier slope... skipping\n",
      "Outlier slope... skipping\n",
      "Outlier slope... skipping\n",
      "Outlier slope... skipping\n",
      "Outlier slope... skipping\n"
     ]
    },
    {
     "name": "stderr",
     "output_type": "stream",
     "text": [
      " 31%|███       | 211/682 [00:07<00:17, 26.61it/s]"
     ]
    },
    {
     "name": "stdout",
     "output_type": "stream",
     "text": [
      "Outlier slope... skipping\n",
      "Outlier slope... skipping\n",
      "Outlier slope... skipping\n",
      "Outlier slope... skipping\n",
      "Outlier slope... skipping\n",
      "Outlier slope... skipping\n",
      "Outlier slope... skipping\n",
      "Outlier slope... skipping\n",
      "Outlier slope... skipping\n",
      "Outlier slope... skipping\n",
      "Outlier slope... skipping\n",
      "Outlier slope... skipping\n",
      "Outlier slope... skipping\n",
      "Outlier slope... skipping\n",
      "Outlier slope... skipping\n",
      "Outlier slope... skipping\n",
      "Outlier slope... skipping\n",
      "Outlier slope... skipping\n"
     ]
    },
    {
     "name": "stderr",
     "output_type": "stream",
     "text": [
      " 32%|███▏      | 217/682 [00:07<00:17, 26.33it/s]"
     ]
    },
    {
     "name": "stdout",
     "output_type": "stream",
     "text": [
      "Outlier slope... skipping\n",
      "Outlier slope... skipping\n",
      "Outlier slope... skipping\n",
      "Outlier slope... skipping\n",
      "Outlier slope... skipping\n",
      "Outlier slope... skipping\n",
      "Outlier slope... skipping\n",
      "Outlier slope... skipping\n",
      "Outlier slope... skipping\n",
      "Outlier slope... skipping\n",
      "Outlier slope... skipping\n",
      "Outlier slope... skipping\n",
      "Outlier slope... skipping\n",
      "Outlier slope... skipping\n",
      "Outlier slope... skipping\n"
     ]
    },
    {
     "name": "stderr",
     "output_type": "stream",
     "text": [
      "\r",
      " 32%|███▏      | 220/682 [00:07<00:17, 26.13it/s]"
     ]
    },
    {
     "name": "stdout",
     "output_type": "stream",
     "text": [
      "Outlier slope... skipping\n",
      "Outlier slope... skipping\n",
      "Outlier slope... skipping\n",
      "Outlier slope... skipping\n",
      "Outlier slope... skipping\n",
      "Outlier slope... skipping\n",
      "Outlier slope... skipping\n",
      "Outlier slope... skipping\n",
      "Outlier slope... skipping\n",
      "Outlier slope... skipping\n",
      "Outlier slope... skipping\n",
      "Outlier slope... skipping\n"
     ]
    },
    {
     "name": "stderr",
     "output_type": "stream",
     "text": [
      " 33%|███▎      | 226/682 [00:07<00:18, 24.26it/s]"
     ]
    },
    {
     "name": "stdout",
     "output_type": "stream",
     "text": [
      "Outlier slope... skipping\n",
      "Outlier slope... skipping\n",
      "Outlier slope... skipping\n",
      "Outlier slope... skipping\n",
      "Outlier slope... skipping\n",
      "Outlier slope... skipping\n",
      "Outlier slope... skipping\n",
      "Outlier slope... skipping\n",
      "Outlier slope... skipping\n",
      "Outlier slope... skipping\n"
     ]
    },
    {
     "name": "stderr",
     "output_type": "stream",
     "text": [
      " 34%|███▍      | 232/682 [00:07<00:17, 26.08it/s]"
     ]
    },
    {
     "name": "stdout",
     "output_type": "stream",
     "text": [
      "Outlier slope... skipping\n",
      "Outlier slope... skipping\n",
      "Outlier slope... skipping\n",
      "Outlier slope... skipping\n"
     ]
    },
    {
     "name": "stderr",
     "output_type": "stream",
     "text": [
      " 35%|███▌      | 242/682 [00:08<00:15, 28.06it/s]"
     ]
    },
    {
     "name": "stdout",
     "output_type": "stream",
     "text": [
      "Outlier slope... skipping\n",
      "Outlier slope... skipping\n",
      "Outlier slope... skipping\n"
     ]
    },
    {
     "name": "stderr",
     "output_type": "stream",
     "text": [
      " 37%|███▋      | 249/682 [00:08<00:15, 27.42it/s]"
     ]
    },
    {
     "name": "stdout",
     "output_type": "stream",
     "text": [
      "Outlier slope... skipping\n",
      "Outlier slope... skipping\n",
      "Outlier slope... skipping\n",
      "Outlier slope... skipping\n",
      "Outlier slope... skipping\n"
     ]
    },
    {
     "name": "stderr",
     "output_type": "stream",
     "text": [
      " 38%|███▊      | 260/682 [00:08<00:14, 29.74it/s]"
     ]
    },
    {
     "name": "stdout",
     "output_type": "stream",
     "text": [
      "Outlier slope... skipping\n",
      "Outlier slope... skipping\n",
      "Outlier slope... skipping\n",
      "Outlier slope... skipping\n",
      "Outlier slope... skipping\n",
      "Outlier slope... skipping\n",
      "Outlier slope... skipping\n",
      "Outlier slope... skipping\n",
      "Outlier slope... skipping\n",
      "Outlier slope... skipping\n",
      "Outlier slope... skipping\n",
      "Outlier slope... skipping\n",
      "Outlier slope... skipping\n",
      "Outlier slope... skipping\n"
     ]
    },
    {
     "name": "stderr",
     "output_type": "stream",
     "text": [
      "\r",
      " 39%|███▊      | 264/682 [00:09<00:15, 26.34it/s]"
     ]
    },
    {
     "name": "stdout",
     "output_type": "stream",
     "text": [
      "Outlier slope... skipping\n",
      "Outlier slope... skipping\n",
      "Outlier slope... skipping\n",
      "Outlier slope... skipping\n",
      "Outlier slope... skipping\n",
      "Outlier slope... skipping\n"
     ]
    },
    {
     "name": "stderr",
     "output_type": "stream",
     "text": [
      " 41%|████      | 278/682 [00:09<00:17, 23.13it/s]"
     ]
    },
    {
     "name": "stdout",
     "output_type": "stream",
     "text": [
      "Outlier slope... skipping\n",
      "Outlier slope... skipping\n",
      "Outlier slope... skipping\n"
     ]
    },
    {
     "name": "stderr",
     "output_type": "stream",
     "text": [
      " 42%|████▏     | 285/682 [00:09<00:16, 23.72it/s]"
     ]
    },
    {
     "name": "stdout",
     "output_type": "stream",
     "text": [
      "Outlier slope... skipping\n",
      "Outlier slope... skipping\n",
      "Outlier slope... skipping\n",
      "Outlier slope... skipping\n",
      "Outlier slope... skipping\n",
      "Outlier slope... skipping\n",
      "Outlier slope... skipping\n",
      "Outlier slope... skipping\n",
      "Outlier slope... skipping\n",
      "Outlier slope... skipping\n",
      "Outlier slope... skipping\n",
      "Outlier slope... skipping\n",
      "Outlier slope... skipping\n",
      "Outlier slope... skipping\n",
      "Outlier slope... skipping\n",
      "Outlier slope... skipping\n",
      "Outlier slope... skipping\n",
      "Outlier slope... skipping\n",
      "Outlier slope... skipping\n"
     ]
    },
    {
     "name": "stderr",
     "output_type": "stream",
     "text": [
      "\r",
      " 42%|████▏     | 288/682 [00:10<00:19, 20.06it/s]"
     ]
    },
    {
     "name": "stdout",
     "output_type": "stream",
     "text": [
      "Outlier slope... skipping\n",
      "Outlier slope... skipping\n",
      "Outlier slope... skipping\n",
      "Outlier slope... skipping\n",
      "Outlier slope... skipping\n",
      "Outlier slope... skipping\n",
      "Outlier slope... skipping\n",
      "Outlier slope... skipping\n",
      "Outlier slope... skipping\n",
      "Outlier slope... skipping\n",
      "Outlier slope... skipping\n",
      "Outlier slope... skipping\n",
      "Outlier slope... skipping\n",
      "Outlier slope... skipping\n",
      "Outlier slope... skipping\n"
     ]
    },
    {
     "name": "stderr",
     "output_type": "stream",
     "text": [
      "\r",
      " 43%|████▎     | 292/682 [00:10<00:17, 22.58it/s]"
     ]
    },
    {
     "name": "stdout",
     "output_type": "stream",
     "text": [
      "Outlier slope... skipping\n",
      "Outlier slope... skipping\n",
      "Outlier slope... skipping\n",
      "Outlier slope... skipping\n",
      "Outlier slope... skipping\n",
      "Outlier slope... skipping\n",
      "Outlier slope... skipping\n",
      "Outlier slope... skipping\n",
      "Outlier slope... skipping\n",
      "Outlier slope... skipping\n",
      "Outlier slope... skipping\n",
      "Outlier slope... skipping\n"
     ]
    },
    {
     "name": "stderr",
     "output_type": "stream",
     "text": [
      " 44%|████▎     | 298/682 [00:10<00:19, 19.64it/s]"
     ]
    },
    {
     "name": "stdout",
     "output_type": "stream",
     "text": [
      "Outlier slope... skipping\n",
      "Outlier slope... skipping\n",
      "Outlier slope... skipping\n",
      "Outlier slope... skipping\n",
      "Outlier slope... skipping\n"
     ]
    },
    {
     "name": "stderr",
     "output_type": "stream",
     "text": [
      " 45%|████▍     | 304/682 [00:10<00:16, 22.82it/s]"
     ]
    },
    {
     "name": "stdout",
     "output_type": "stream",
     "text": [
      "Outlier slope... skipping\n",
      "Outlier slope... skipping\n",
      "Outlier slope... skipping\n",
      "Outlier slope... skipping\n",
      "Outlier slope... skipping\n",
      "Outlier slope... skipping\n",
      "Outlier slope... skipping\n",
      "Outlier slope... skipping\n",
      "Outlier slope... skipping\n",
      "Outlier slope... skipping\n",
      "Outlier slope... skipping\n",
      "Outlier slope... skipping\n",
      "Outlier slope... skipping\n"
     ]
    },
    {
     "name": "stderr",
     "output_type": "stream",
     "text": [
      " 46%|████▌     | 311/682 [00:11<00:14, 24.83it/s]"
     ]
    },
    {
     "name": "stdout",
     "output_type": "stream",
     "text": [
      "Outlier slope... skipping\n",
      "Outlier slope... skipping\n",
      "Outlier slope... skipping\n",
      "Outlier slope... skipping\n",
      "Outlier slope... skipping\n"
     ]
    },
    {
     "name": "stderr",
     "output_type": "stream",
     "text": [
      " 46%|████▋     | 317/682 [00:11<00:14, 25.95it/s]"
     ]
    },
    {
     "name": "stdout",
     "output_type": "stream",
     "text": [
      "Outlier slope... skipping\n",
      "Outlier slope... skipping\n",
      "Outlier slope... skipping\n",
      "Outlier slope... skipping\n"
     ]
    },
    {
     "name": "stderr",
     "output_type": "stream",
     "text": [
      " 47%|████▋     | 323/682 [00:11<00:12, 27.67it/s]"
     ]
    },
    {
     "name": "stdout",
     "output_type": "stream",
     "text": [
      "Outlier slope... skipping\n",
      "Outlier slope... skipping\n",
      "Outlier slope... skipping\n",
      "Outlier slope... skipping\n",
      "Outlier slope... skipping\n",
      "Outlier slope... skipping\n",
      "Outlier slope... skipping\n",
      "Outlier slope... skipping\n",
      "Outlier slope... skipping\n",
      "Outlier slope... skipping\n"
     ]
    },
    {
     "name": "stderr",
     "output_type": "stream",
     "text": [
      " 49%|████▉     | 333/682 [00:11<00:13, 25.48it/s]"
     ]
    },
    {
     "name": "stdout",
     "output_type": "stream",
     "text": [
      "Outlier slope... skipping\n",
      "Outlier slope... skipping\n"
     ]
    },
    {
     "name": "stderr",
     "output_type": "stream",
     "text": [
      " 54%|█████▍    | 367/682 [00:13<00:11, 27.85it/s]"
     ]
    },
    {
     "name": "stdout",
     "output_type": "stream",
     "text": [
      "Outlier slope... skipping\n",
      "Outlier slope... skipping\n",
      "Outlier slope... skipping\n",
      "Outlier slope... skipping\n",
      "Outlier slope... skipping\n",
      "Outlier slope... skipping\n",
      "Outlier slope... skipping\n",
      "Outlier slope... skipping\n",
      "Outlier slope... skipping\n",
      "Outlier slope... skipping\n",
      "Outlier slope... skipping\n",
      "Outlier slope... skipping\n",
      "Outlier slope... skipping\n"
     ]
    },
    {
     "name": "stderr",
     "output_type": "stream",
     "text": [
      " 55%|█████▍    | 373/682 [00:13<00:11, 27.07it/s]"
     ]
    },
    {
     "name": "stdout",
     "output_type": "stream",
     "text": [
      "Outlier slope... skipping\n",
      "Outlier slope... skipping\n",
      "Outlier slope... skipping\n",
      "Outlier slope... skipping\n",
      "Outlier slope... skipping\n",
      "Outlier slope... skipping\n",
      "Outlier slope... skipping\n",
      "Outlier slope... skipping\n",
      "Outlier slope... skipping\n",
      "Outlier slope... skipping\n",
      "Outlier slope... skipping\n",
      "Outlier slope... skipping\n",
      "Outlier slope... skipping\n",
      "Outlier slope... skipping\n"
     ]
    },
    {
     "name": "stderr",
     "output_type": "stream",
     "text": [
      " 56%|█████▌    | 379/682 [00:13<00:11, 25.76it/s]"
     ]
    },
    {
     "name": "stdout",
     "output_type": "stream",
     "text": [
      "Outlier slope... skipping\n",
      "Outlier slope... skipping\n",
      "Outlier slope... skipping\n",
      "Outlier slope... skipping\n",
      "Outlier slope... skipping\n",
      "Outlier slope... skipping\n"
     ]
    },
    {
     "name": "stderr",
     "output_type": "stream",
     "text": [
      " 57%|█████▋    | 386/682 [00:13<00:11, 26.47it/s]"
     ]
    },
    {
     "name": "stdout",
     "output_type": "stream",
     "text": [
      "Outlier slope... skipping\n",
      "Outlier slope... skipping\n"
     ]
    },
    {
     "name": "stderr",
     "output_type": "stream",
     "text": [
      " 62%|██████▏   | 422/682 [00:15<00:09, 27.49it/s]"
     ]
    },
    {
     "name": "stdout",
     "output_type": "stream",
     "text": [
      "Outlier slope... skipping\n"
     ]
    },
    {
     "name": "stderr",
     "output_type": "stream",
     "text": [
      " 66%|██████▌   | 447/682 [00:16<00:08, 26.55it/s]"
     ]
    },
    {
     "name": "stdout",
     "output_type": "stream",
     "text": [
      "Outlier slope... skipping\n"
     ]
    },
    {
     "name": "stderr",
     "output_type": "stream",
     "text": [
      " 71%|███████   | 481/682 [00:17<00:11, 17.42it/s]"
     ]
    },
    {
     "name": "stdout",
     "output_type": "stream",
     "text": [
      "Outlier slope... skipping\n",
      "Outlier slope... skipping\n"
     ]
    },
    {
     "name": "stderr",
     "output_type": "stream",
     "text": [
      " 82%|████████▏ | 558/682 [00:21<00:05, 23.37it/s]"
     ]
    },
    {
     "name": "stdout",
     "output_type": "stream",
     "text": [
      "Outlier slope... skipping\n",
      "Outlier slope... skipping\n"
     ]
    },
    {
     "name": "stderr",
     "output_type": "stream",
     "text": [
      " 84%|████████▎ | 570/682 [00:22<00:05, 21.97it/s]"
     ]
    },
    {
     "name": "stdout",
     "output_type": "stream",
     "text": [
      "Outlier slope... skipping\n",
      "Outlier slope... skipping\n",
      "Outlier slope... skipping\n",
      "Outlier slope... skipping\n",
      "Outlier slope... skipping\n",
      "Outlier slope... skipping\n",
      "Outlier slope... skipping\n",
      "Outlier slope... skipping\n",
      "Outlier slope... skipping\n",
      "Outlier slope... skipping\n",
      "Outlier slope... skipping\n",
      "Outlier slope... skipping\n",
      "Outlier slope... skipping\n",
      "Outlier slope... skipping\n",
      "Outlier slope... skipping\n",
      "Outlier slope... skipping\n"
     ]
    },
    {
     "name": "stderr",
     "output_type": "stream",
     "text": [
      " 84%|████████▍ | 576/682 [00:22<00:04, 23.40it/s]"
     ]
    },
    {
     "name": "stdout",
     "output_type": "stream",
     "text": [
      "Outlier slope... skipping\n",
      "Outlier slope... skipping\n",
      "Outlier slope... skipping\n",
      "Outlier slope... skipping\n",
      "Outlier slope... skipping\n",
      "Outlier slope... skipping\n",
      "Outlier slope... skipping\n",
      "Outlier slope... skipping\n",
      "Outlier slope... skipping\n",
      "Outlier slope... skipping\n",
      "Outlier slope... skipping\n",
      "Outlier slope... skipping\n",
      "Outlier slope... skipping\n",
      "Outlier slope... skipping\n",
      "Outlier slope... skipping\n"
     ]
    },
    {
     "name": "stderr",
     "output_type": "stream",
     "text": [
      " 85%|████████▌ | 582/682 [00:23<00:04, 21.02it/s]"
     ]
    },
    {
     "name": "stdout",
     "output_type": "stream",
     "text": [
      "Outlier slope... skipping\n",
      "Outlier slope... skipping\n",
      "Outlier slope... skipping\n",
      "Outlier slope... skipping\n",
      "Outlier slope... skipping\n",
      "Outlier slope... skipping\n",
      "Outlier slope... skipping\n",
      "Outlier slope... skipping\n",
      "Outlier slope... skipping\n",
      "Outlier slope... skipping\n",
      "Outlier slope... skipping\n"
     ]
    },
    {
     "name": "stderr",
     "output_type": "stream",
     "text": [
      "\r",
      " 86%|████████▌ | 585/682 [00:23<00:05, 17.70it/s]"
     ]
    },
    {
     "name": "stdout",
     "output_type": "stream",
     "text": [
      "Outlier slope... skipping\n",
      "Outlier slope... skipping\n",
      "Outlier slope... skipping\n",
      "Outlier slope... skipping\n",
      "Outlier slope... skipping\n",
      "Outlier slope... skipping\n",
      "Outlier slope... skipping\n",
      "Outlier slope... skipping\n",
      "Outlier slope... skipping\n",
      "Outlier slope... skipping\n",
      "Outlier slope... skipping\n",
      "No detections on right or left line - using previous results\n",
      "Outlier slope... skipping\n",
      "Outlier slope... skipping\n",
      "Outlier slope... skipping\n",
      "Outlier slope... skipping\n",
      "Outlier slope... skipping\n"
     ]
    },
    {
     "name": "stderr",
     "output_type": "stream",
     "text": [
      "\r",
      " 86%|████████▌ | 588/682 [00:23<00:04, 19.04it/s]"
     ]
    },
    {
     "name": "stdout",
     "output_type": "stream",
     "text": [
      "Outlier slope... skipping\n",
      "Outlier slope... skipping\n",
      "Outlier slope... skipping\n",
      "Outlier slope... skipping\n",
      "Outlier slope... skipping\n",
      "Outlier slope... skipping\n",
      "Outlier slope... skipping\n",
      "Outlier slope... skipping\n",
      "Outlier slope... skipping\n",
      "Outlier slope... skipping\n",
      "Outlier slope... skipping\n",
      "Outlier slope... skipping\n",
      "Outlier slope... skipping\n",
      "Outlier slope... skipping\n",
      "Outlier slope... skipping\n",
      "Outlier slope... skipping\n",
      "Outlier slope... skipping\n",
      "Outlier slope... skipping\n"
     ]
    },
    {
     "name": "stderr",
     "output_type": "stream",
     "text": [
      " 87%|████████▋ | 595/682 [00:23<00:04, 19.96it/s]"
     ]
    },
    {
     "name": "stdout",
     "output_type": "stream",
     "text": [
      "Outlier slope... skipping\n",
      "Outlier slope... skipping\n",
      "Outlier slope... skipping\n",
      "Outlier slope... skipping\n",
      "Outlier slope... skipping\n",
      "Outlier slope... skipping\n",
      "Outlier slope... skipping\n",
      "Outlier slope... skipping\n",
      "Outlier slope... skipping\n",
      "Outlier slope... skipping\n",
      "Outlier slope... skipping\n"
     ]
    },
    {
     "name": "stderr",
     "output_type": "stream",
     "text": [
      "\r",
      " 88%|████████▊ | 599/682 [00:23<00:03, 22.88it/s]"
     ]
    },
    {
     "name": "stdout",
     "output_type": "stream",
     "text": [
      "Outlier slope... skipping\n",
      "Outlier slope... skipping\n",
      "Outlier slope... skipping\n",
      "Outlier slope... skipping\n",
      "Outlier slope... skipping\n",
      "Outlier slope... skipping\n",
      "Outlier slope... skipping\n",
      "Outlier slope... skipping\n",
      "Outlier slope... skipping\n",
      "Outlier slope... skipping\n",
      "Outlier slope... skipping\n",
      "Outlier slope... skipping\n",
      "Outlier slope... skipping\n",
      "Outlier slope... skipping\n",
      "Outlier slope... skipping\n",
      "Outlier slope... skipping\n",
      "Outlier slope... skipping\n",
      "Outlier slope... skipping\n",
      "Outlier slope... skipping\n",
      "Outlier slope... skipping\n",
      "Outlier slope... skipping\n",
      "Outlier slope... skipping\n",
      "Outlier slope... skipping\n"
     ]
    },
    {
     "name": "stderr",
     "output_type": "stream",
     "text": [
      " 89%|████████▉ | 606/682 [00:24<00:03, 22.58it/s]"
     ]
    },
    {
     "name": "stdout",
     "output_type": "stream",
     "text": [
      "Outlier slope... skipping\n",
      "Outlier slope... skipping\n",
      "Outlier slope... skipping\n",
      "Outlier slope... skipping\n",
      "Outlier slope... skipping\n",
      "Outlier slope... skipping\n",
      "Outlier slope... skipping\n",
      "Outlier slope... skipping\n",
      "Outlier slope... skipping\n",
      "Outlier slope... skipping\n",
      "Outlier slope... skipping\n",
      "Outlier slope... skipping\n",
      "Outlier slope... skipping\n",
      "Outlier slope... skipping\n",
      "Outlier slope... skipping\n",
      "Outlier slope... skipping\n",
      "Outlier slope... skipping\n",
      "Outlier slope... skipping\n",
      "Outlier slope... skipping\n",
      "Outlier slope... skipping\n"
     ]
    },
    {
     "name": "stderr",
     "output_type": "stream",
     "text": [
      "\r",
      " 89%|████████▉ | 609/682 [00:24<00:03, 21.71it/s]"
     ]
    },
    {
     "name": "stdout",
     "output_type": "stream",
     "text": [
      "Outlier slope... skipping\n",
      "Outlier slope... skipping\n",
      "Outlier slope... skipping\n",
      "Outlier slope... skipping\n",
      "Outlier slope... skipping\n",
      "Outlier slope... skipping\n",
      "Outlier slope... skipping\n",
      "Outlier slope... skipping\n",
      "Outlier slope... skipping\n",
      "No detections on right or left line - using previous results\n",
      "Outlier slope... skipping\n",
      "Outlier slope... skipping\n",
      "Outlier slope... skipping\n",
      "Outlier slope... skipping\n",
      "No detections on right or left line - using previous results\n",
      "Outlier slope... skipping\n",
      "Outlier slope... skipping\n",
      "Outlier slope... skipping\n",
      "Outlier slope... skipping\n",
      "Outlier slope... skipping\n",
      "Outlier slope... skipping\n",
      "No detections on right or left line - using previous results\n",
      "Outlier slope... skipping\n",
      "Outlier slope... skipping\n",
      "Outlier slope... skipping\n",
      "Outlier slope... skipping\n",
      "Outlier slope... skipping\n",
      "Outlier slope... skipping\n",
      "No detections on right or left line - using previous results\n"
     ]
    },
    {
     "name": "stderr",
     "output_type": "stream",
     "text": [
      " 90%|█████████ | 615/682 [00:24<00:02, 22.93it/s]"
     ]
    },
    {
     "name": "stdout",
     "output_type": "stream",
     "text": [
      "Outlier slope... skipping\n",
      "Outlier slope... skipping\n",
      "Outlier slope... skipping\n",
      "Outlier slope... skipping\n",
      "Outlier slope... skipping\n",
      "Outlier slope... skipping\n",
      "Outlier slope... skipping\n",
      "Outlier slope... skipping\n",
      "No detections on right or left line - using previous results\n",
      "Outlier slope... skipping\n",
      "Outlier slope... skipping\n",
      "Outlier slope... skipping\n",
      "Outlier slope... skipping\n",
      "Outlier slope... skipping\n",
      "Outlier slope... skipping\n",
      "Outlier slope... skipping\n",
      "Outlier slope... skipping\n",
      "Outlier slope... skipping\n",
      "Outlier slope... skipping\n",
      "No detections on right or left line - using previous results\n",
      "Outlier slope... skipping\n",
      "Outlier slope... skipping\n",
      "Outlier slope... skipping\n",
      "Outlier slope... skipping\n",
      "Outlier slope... skipping\n",
      "Outlier slope... skipping\n",
      "No detections on right or left line - using previous results\n",
      "Outlier slope... skipping\n",
      "Outlier slope... skipping\n",
      "Outlier slope... skipping\n",
      "Outlier slope... skipping\n",
      "Outlier slope... skipping\n",
      "No detections on right or left line - using previous results\n",
      "Outlier slope... skipping\n",
      "Outlier slope... skipping\n",
      "Outlier slope... skipping\n",
      "Outlier slope... skipping\n",
      "Outlier slope... skipping\n",
      "Outlier slope... skipping\n",
      "No detections on right or left line - using previous results\n",
      "Outlier slope... skipping\n",
      "Outlier slope... skipping\n",
      "Outlier slope... skipping\n",
      "Outlier slope... skipping\n",
      "Outlier slope... skipping\n",
      "No detections on right or left line - using previous results\n"
     ]
    },
    {
     "name": "stderr",
     "output_type": "stream",
     "text": [
      " 91%|█████████ | 621/682 [00:24<00:02, 23.39it/s]"
     ]
    },
    {
     "name": "stdout",
     "output_type": "stream",
     "text": [
      "Outlier slope... skipping\n",
      "Outlier slope... skipping\n",
      "Outlier slope... skipping\n",
      "Outlier slope... skipping\n",
      "Outlier slope... skipping\n",
      "Outlier slope... skipping\n",
      "Outlier slope... skipping\n",
      "No detections on right or left line - using previous results\n",
      "Outlier slope... skipping\n",
      "Outlier slope... skipping\n",
      "Outlier slope... skipping\n",
      "Outlier slope... skipping\n",
      "Outlier slope... skipping\n",
      "Outlier slope... skipping\n",
      "Outlier slope... skipping\n",
      "Outlier slope... skipping\n",
      "Outlier slope... skipping\n",
      "No detections on right or left line - using previous results\n",
      "Outlier slope... skipping\n",
      "Outlier slope... skipping\n",
      "Outlier slope... skipping\n",
      "Outlier slope... skipping\n",
      "Outlier slope... skipping\n",
      "Outlier slope... skipping\n",
      "Outlier slope... skipping\n",
      "No detections on right or left line - using previous results\n",
      "Outlier slope... skipping\n",
      "Outlier slope... skipping\n",
      "Outlier slope... skipping\n",
      "Outlier slope... skipping\n",
      "Outlier slope... skipping\n",
      "Outlier slope... skipping\n",
      "Outlier slope... skipping\n",
      "No detections on right or left line - using previous results\n",
      "Outlier slope... skipping\n",
      "Outlier slope... skipping\n",
      "Outlier slope... skipping\n",
      "Outlier slope... skipping\n",
      "Outlier slope... skipping\n",
      "Outlier slope... skipping\n",
      "Outlier slope... skipping\n",
      "Outlier slope... skipping\n",
      "Outlier slope... skipping\n",
      "Outlier slope... skipping\n",
      "No detections on right or left line - using previous results\n",
      "Outlier slope... skipping\n",
      "Outlier slope... skipping\n",
      "Outlier slope... skipping\n",
      "Outlier slope... skipping\n",
      "Outlier slope... skipping\n",
      "Outlier slope... skipping\n",
      "No detections on right or left line - using previous results\n"
     ]
    },
    {
     "name": "stderr",
     "output_type": "stream",
     "text": [
      " 92%|█████████▏| 627/682 [00:25<00:02, 24.24it/s]"
     ]
    },
    {
     "name": "stdout",
     "output_type": "stream",
     "text": [
      "Outlier slope... skipping\n",
      "Outlier slope... skipping\n",
      "Outlier slope... skipping\n",
      "Outlier slope... skipping\n",
      "Outlier slope... skipping\n",
      "Outlier slope... skipping\n",
      "Outlier slope... skipping\n",
      "No detections on right or left line - using previous results\n",
      "Outlier slope... skipping\n",
      "Outlier slope... skipping\n",
      "Outlier slope... skipping\n",
      "Outlier slope... skipping\n",
      "Outlier slope... skipping\n",
      "Outlier slope... skipping\n",
      "Outlier slope... skipping\n",
      "Outlier slope... skipping\n",
      "No detections on right or left line - using previous results\n",
      "Outlier slope... skipping\n",
      "Outlier slope... skipping\n",
      "Outlier slope... skipping\n",
      "Outlier slope... skipping\n",
      "Outlier slope... skipping\n",
      "Outlier slope... skipping\n",
      "No detections on right or left line - using previous results\n",
      "Outlier slope... skipping\n",
      "Outlier slope... skipping\n",
      "Outlier slope... skipping\n",
      "Outlier slope... skipping\n",
      "No detections on right or left line - using previous results\n",
      "Outlier slope... skipping\n",
      "Outlier slope... skipping\n",
      "Outlier slope... skipping\n",
      "Outlier slope... skipping\n",
      "Outlier slope... skipping\n",
      "No detections on right or left line - using previous results\n",
      "Outlier slope... skipping\n",
      "Outlier slope... skipping\n",
      "Outlier slope... skipping\n",
      "Outlier slope... skipping\n",
      "Outlier slope... skipping\n",
      "Outlier slope... skipping\n",
      "Outlier slope... skipping\n"
     ]
    },
    {
     "name": "stderr",
     "output_type": "stream",
     "text": [
      " 93%|█████████▎| 633/682 [00:25<00:02, 21.36it/s]"
     ]
    },
    {
     "name": "stdout",
     "output_type": "stream",
     "text": [
      "Outlier slope... skipping\n",
      "Outlier slope... skipping\n",
      "Outlier slope... skipping\n",
      "Outlier slope... skipping\n",
      "Outlier slope... skipping\n",
      "Outlier slope... skipping\n",
      "Outlier slope... skipping\n",
      "Outlier slope... skipping\n",
      "Outlier slope... skipping\n",
      "No detections on right or left line - using previous results\n",
      "Outlier slope... skipping\n",
      "Outlier slope... skipping\n",
      "Outlier slope... skipping\n",
      "Outlier slope... skipping\n",
      "Outlier slope... skipping\n",
      "Outlier slope... skipping\n",
      "Outlier slope... skipping\n",
      "No detections on right or left line - using previous results\n",
      "Outlier slope... skipping\n",
      "Outlier slope... skipping\n",
      "Outlier slope... skipping\n",
      "Outlier slope... skipping\n",
      "Outlier slope... skipping\n",
      "Outlier slope... skipping\n",
      "Outlier slope... skipping\n",
      "Outlier slope... skipping\n",
      "No detections on right or left line - using previous results\n",
      "Outlier slope... skipping\n",
      "Outlier slope... skipping\n",
      "Outlier slope... skipping\n",
      "Outlier slope... skipping\n",
      "Outlier slope... skipping\n",
      "Outlier slope... skipping\n",
      "Outlier slope... skipping\n",
      "Outlier slope... skipping\n",
      "No detections on right or left line - using previous results\n"
     ]
    },
    {
     "name": "stderr",
     "output_type": "stream",
     "text": [
      " 94%|█████████▍| 640/682 [00:25<00:01, 25.17it/s]"
     ]
    },
    {
     "name": "stdout",
     "output_type": "stream",
     "text": [
      "Outlier slope... skipping\n",
      "Outlier slope... skipping\n",
      "Outlier slope... skipping\n",
      "Outlier slope... skipping\n",
      "Outlier slope... skipping\n",
      "Outlier slope... skipping\n",
      "Outlier slope... skipping\n",
      "Outlier slope... skipping\n",
      "No detections on right or left line - using previous results\n",
      "Outlier slope... skipping\n",
      "Outlier slope... skipping\n",
      "Outlier slope... skipping\n",
      "Outlier slope... skipping\n",
      "Outlier slope... skipping\n",
      "Outlier slope... skipping\n",
      "No detections on right or left line - using previous results\n",
      "Outlier slope... skipping\n",
      "Outlier slope... skipping\n",
      "Outlier slope... skipping\n",
      "Outlier slope... skipping\n",
      "Outlier slope... skipping\n",
      "Outlier slope... skipping\n",
      "No detections on right or left line - using previous results\n",
      "Outlier slope... skipping\n",
      "Outlier slope... skipping\n",
      "Outlier slope... skipping\n",
      "Outlier slope... skipping\n",
      "Outlier slope... skipping\n",
      "Outlier slope... skipping\n",
      "Outlier slope... skipping\n",
      "Outlier slope... skipping\n",
      "No detections on right or left line - using previous results\n",
      "Outlier slope... skipping\n",
      "Outlier slope... skipping\n",
      "Outlier slope... skipping\n",
      "Outlier slope... skipping\n",
      "Outlier slope... skipping\n",
      "Outlier slope... skipping\n",
      "Outlier slope... skipping\n",
      "Outlier slope... skipping\n",
      "Outlier slope... skipping\n",
      "No detections on right or left line - using previous results\n",
      "Outlier slope... skipping\n",
      "Outlier slope... skipping\n",
      "Outlier slope... skipping\n",
      "Outlier slope... skipping\n",
      "Outlier slope... skipping\n",
      "Outlier slope... skipping\n",
      "Outlier slope... skipping\n",
      "No detections on right or left line - using previous results\n",
      "Outlier slope... skipping\n",
      "Outlier slope... skipping\n",
      "Outlier slope... skipping\n",
      "Outlier slope... skipping\n",
      "Outlier slope... skipping\n",
      "Outlier slope... skipping\n",
      "No detections on right or left line - using previous results\n"
     ]
    },
    {
     "name": "stderr",
     "output_type": "stream",
     "text": [
      "\r",
      " 94%|█████████▍| 643/682 [00:25<00:01, 23.77it/s]"
     ]
    },
    {
     "name": "stdout",
     "output_type": "stream",
     "text": [
      "Outlier slope... skipping\n",
      "Outlier slope... skipping\n",
      "Outlier slope... skipping\n",
      "Outlier slope... skipping\n",
      "Outlier slope... skipping\n",
      "Outlier slope... skipping\n",
      "No detections on right or left line - using previous results\n",
      "Outlier slope... skipping\n",
      "Outlier slope... skipping\n",
      "Outlier slope... skipping\n",
      "Outlier slope... skipping\n",
      "Outlier slope... skipping\n",
      "Outlier slope... skipping\n",
      "No detections on right or left line - using previous results\n",
      "Outlier slope... skipping\n",
      "Outlier slope... skipping\n",
      "Outlier slope... skipping\n",
      "Outlier slope... skipping\n",
      "Outlier slope... skipping\n",
      "Outlier slope... skipping\n",
      "No detections on right or left line - using previous results\n",
      "Outlier slope... skipping\n",
      "Outlier slope... skipping\n",
      "Outlier slope... skipping\n",
      "Outlier slope... skipping\n",
      "Outlier slope... skipping\n",
      "Outlier slope... skipping\n",
      "No detections on right or left line - using previous results\n",
      "Outlier slope... skipping\n",
      "Outlier slope... skipping\n",
      "Outlier slope... skipping\n",
      "Outlier slope... skipping\n",
      "Outlier slope... skipping\n",
      "Outlier slope... skipping\n",
      "Outlier slope... skipping\n",
      "No detections on right or left line - using previous results\n"
     ]
    },
    {
     "name": "stderr",
     "output_type": "stream",
     "text": [
      " 95%|█████████▌| 650/682 [00:25<00:01, 25.48it/s]"
     ]
    },
    {
     "name": "stdout",
     "output_type": "stream",
     "text": [
      "Outlier slope... skipping\n",
      "Outlier slope... skipping\n",
      "Outlier slope... skipping\n",
      "Outlier slope... skipping\n",
      "Outlier slope... skipping\n",
      "Outlier slope... skipping\n",
      "No detections on right or left line - using previous results\n",
      "Outlier slope... skipping\n",
      "Outlier slope... skipping\n",
      "Outlier slope... skipping\n",
      "Outlier slope... skipping\n",
      "Outlier slope... skipping\n",
      "Outlier slope... skipping\n",
      "Outlier slope... skipping\n",
      "No detections on right or left line - using previous results\n",
      "Outlier slope... skipping\n",
      "Outlier slope... skipping\n",
      "Outlier slope... skipping\n",
      "Outlier slope... skipping\n",
      "Outlier slope... skipping\n",
      "No detections on right or left line - using previous results\n",
      "Outlier slope... skipping\n",
      "Outlier slope... skipping\n",
      "Outlier slope... skipping\n",
      "Outlier slope... skipping\n",
      "Outlier slope... skipping\n",
      "No detections on right or left line - using previous results\n",
      "Outlier slope... skipping\n",
      "Outlier slope... skipping\n",
      "Outlier slope... skipping\n",
      "Outlier slope... skipping\n",
      "Outlier slope... skipping\n",
      "Outlier slope... skipping\n",
      "Outlier slope... skipping\n",
      "No detections on right or left line - using previous results\n"
     ]
    },
    {
     "name": "stderr",
     "output_type": "stream",
     "text": [
      "\r",
      " 96%|█████████▌| 653/682 [00:26<00:01, 23.51it/s]"
     ]
    },
    {
     "name": "stdout",
     "output_type": "stream",
     "text": [
      "Outlier slope... skipping\n",
      "Outlier slope... skipping\n",
      "Outlier slope... skipping\n",
      "Outlier slope... skipping\n",
      "Outlier slope... skipping\n",
      "No detections on right or left line - using previous results\n",
      "Outlier slope... skipping\n",
      "Outlier slope... skipping\n",
      "Outlier slope... skipping\n",
      "Outlier slope... skipping\n",
      "No detections on right or left line - using previous results\n",
      "Outlier slope... skipping\n",
      "Outlier slope... skipping\n",
      "Outlier slope... skipping\n",
      "Outlier slope... skipping\n",
      "Outlier slope... skipping\n",
      "Outlier slope... skipping\n",
      "No detections on right or left line - using previous results\n",
      "Outlier slope... skipping\n",
      "Outlier slope... skipping\n",
      "Outlier slope... skipping\n",
      "Outlier slope... skipping\n",
      "Outlier slope... skipping\n",
      "Outlier slope... skipping\n",
      "No detections on right or left line - using previous results\n",
      "Outlier slope... skipping\n",
      "Outlier slope... skipping\n",
      "Outlier slope... skipping\n",
      "Outlier slope... skipping\n",
      "No detections on right or left line - using previous results\n",
      "Outlier slope... skipping\n",
      "Outlier slope... skipping\n",
      "Outlier slope... skipping\n"
     ]
    },
    {
     "name": "stderr",
     "output_type": "stream",
     "text": [
      " 97%|█████████▋| 660/682 [00:26<00:00, 24.55it/s]"
     ]
    },
    {
     "name": "stdout",
     "output_type": "stream",
     "text": [
      "Outlier slope... skipping\n",
      "Outlier slope... skipping\n",
      "Outlier slope... skipping\n",
      "Outlier slope... skipping\n",
      "Outlier slope... skipping\n",
      "Outlier slope... skipping\n",
      "Outlier slope... skipping\n",
      "Outlier slope... skipping\n",
      "Outlier slope... skipping\n",
      "Outlier slope... skipping\n",
      "Outlier slope... skipping\n",
      "Outlier slope... skipping\n",
      "Outlier slope... skipping\n",
      "Outlier slope... skipping\n"
     ]
    },
    {
     "name": "stderr",
     "output_type": "stream",
     "text": [
      " 98%|█████████▊| 666/682 [00:26<00:00, 25.64it/s]"
     ]
    },
    {
     "name": "stdout",
     "output_type": "stream",
     "text": [
      "Outlier slope... skipping\n",
      "Outlier slope... skipping\n",
      "Outlier slope... skipping\n",
      "Outlier slope... skipping\n",
      "Outlier slope... skipping\n",
      "Outlier slope... skipping\n",
      "Outlier slope... skipping\n",
      "Outlier slope... skipping\n",
      "Outlier slope... skipping\n",
      "Outlier slope... skipping\n",
      "Outlier slope... skipping\n"
     ]
    },
    {
     "name": "stderr",
     "output_type": "stream",
     "text": [
      "100%|█████████▉| 679/682 [00:27<00:00, 26.84it/s]"
     ]
    },
    {
     "name": "stdout",
     "output_type": "stream",
     "text": [
      "Outlier slope... skipping\n",
      "Outlier slope... skipping\n",
      "Outlier slope... skipping\n",
      "Outlier slope... skipping\n",
      "Outlier slope... skipping\n",
      "Outlier slope... skipping\n",
      "Outlier slope... skipping\n",
      "Outlier slope... skipping\n",
      "Outlier slope... skipping\n",
      "Outlier slope... skipping\n",
      "Outlier slope... skipping\n",
      "Outlier slope... skipping\n",
      "Outlier slope... skipping\n",
      "Outlier slope... skipping\n"
     ]
    },
    {
     "name": "stderr",
     "output_type": "stream",
     "text": [
      "100%|█████████▉| 681/682 [00:27<00:00, 25.01it/s]\n"
     ]
    },
    {
     "name": "stdout",
     "output_type": "stream",
     "text": [
      "[MoviePy] Done.\n",
      "[MoviePy] >>>> Video ready: test_videos_output/solidYellowLeft.mp4 \n",
      "\n",
      "CPU times: user 19 s, sys: 768 ms, total: 19.7 s\n",
      "Wall time: 28.4 s\n"
     ]
    }
   ],
   "source": [
    "yellow_output = 'test_videos_output/solidYellowLeft.mp4'\n",
    "## To speed up the testing process you may want to try your pipeline on a shorter subclip of the video\n",
    "## To do so add .subclip(start_second,end_second) to the end of the line below\n",
    "## Where start_second and end_second are integer values representing the start and end of the subclip\n",
    "## You may also uncomment the following line for a subclip of the first 5 seconds\n",
    "#clip2 = VideoFileClip('test_videos/solidYellowLeft.mp4').subclip(0,3)\n",
    "clip2 = VideoFileClip('test_videos/solidYellowLeft.mp4')\n",
    "yellow_clip = clip2.fl_image(process_image)\n",
    "%time yellow_clip.write_videofile(yellow_output, audio=False)"
   ]
  },
  {
   "cell_type": "code",
   "execution_count": 31,
   "metadata": {},
   "outputs": [
    {
     "data": {
      "image/png": "[encoded data removed]",
      "text/plain": [
       "<matplotlib.figure.Figure at 0x7ff982d8b908>"
      ]
     },
     "metadata": {},
     "output_type": "display_data"
    }
   ],
   "source": [
    "red_patch = mpatches.Patch(color='red', label='d right')\n",
    "green_patch = mpatches.Patch(color='green', label='d right filtered')\n",
    "plt.legend(handles=[red_patch, green_patch])\n",
    "plt.ylabel('Pixel')\n",
    "plt.xlabel('Frame')\n",
    "\n",
    "plt.plot(frame, plot_d_right, 'r--', frame, plot_d_right_filtered, 'g--')\n",
    "plt.show()"
   ]
  },
  {
   "cell_type": "code",
   "execution_count": 32,
   "metadata": {},
   "outputs": [
    {
     "data": {
      "image/png": "[encoded data removed]",
      "text/plain": [
       "<matplotlib.figure.Figure at 0x7ff982718390>"
      ]
     },
     "metadata": {},
     "output_type": "display_data"
    }
   ],
   "source": [
    "red_patch = mpatches.Patch(color='red', label='d left')\n",
    "green_patch = mpatches.Patch(color='green', label='d left filtered')\n",
    "plt.legend(handles=[red_patch, green_patch])\n",
    "plt.ylabel('Pixel')\n",
    "plt.xlabel('Frame')\n",
    "\n",
    "plt.plot(frame, plot_d_left, 'r--', frame, plot_d_left_filtered, 'g--')\n",
    "plt.show()"
   ]
  },
  {
   "cell_type": "code",
   "execution_count": 33,
   "metadata": {},
   "outputs": [
    {
     "data": {
      "image/png": "[encoded data removed]",
      "text/plain": [
       "<matplotlib.figure.Figure at 0x7ff982de98d0>"
      ]
     },
     "metadata": {},
     "output_type": "display_data"
    }
   ],
   "source": [
    "red_patch = mpatches.Patch(color='red', label='slope left')\n",
    "green_patch = mpatches.Patch(color='green', label='slope left filtered')\n",
    "plt.legend(handles=[red_patch, green_patch])\n",
    "plt.ylabel('Pixel')\n",
    "plt.xlabel('Frame')\n",
    "\n",
    "plt.plot(frame, plot_slope_left, 'r--', frame, plot_slope_left_filtered, 'g--')\n",
    "plt.show()"
   ]
  },
  {
   "cell_type": "code",
   "execution_count": 34,
   "metadata": {},
   "outputs": [
    {
     "data": {
      "image/png": "[encoded data removed]",
      "text/plain": [
       "<matplotlib.figure.Figure at 0x7ff982689be0>"
      ]
     },
     "metadata": {},
     "output_type": "display_data"
    }
   ],
   "source": [
    "red_patch = mpatches.Patch(color='red', label='slope right')\n",
    "green_patch = mpatches.Patch(color='green', label='slope right filtered')\n",
    "plt.legend(handles=[red_patch, green_patch])\n",
    "plt.ylabel('Pixel')\n",
    "plt.xlabel('Frame')\n",
    "\n",
    "plt.plot(frame, plot_slope_right, 'r--', frame, plot_slope_right_filtered, 'g--')\n",
    "plt.show()"
   ]
  },
  {
   "cell_type": "code",
   "execution_count": 35,
   "metadata": {},
   "outputs": [
    {
     "data": {
      "text/html": [
       "\n",
       "<video width=\"960\" height=\"540\" controls>\n",
       "  <source src=\"test_videos_output/solidYellowLeft.mp4\">\n",
       "</video>\n"
      ],
      "text/plain": [
       "<IPython.core.display.HTML object>"
      ]
     },
     "execution_count": 35,
     "metadata": {},
     "output_type": "execute_result"
    }
   ],
   "source": [
    "HTML(\"\"\"\n",
    "<video width=\"960\" height=\"540\" controls>\n",
    "  <source src=\"{0}\">\n",
    "</video>\n",
    "\"\"\".format(yellow_output))"
   ]
  },
  {
   "cell_type": "markdown",
   "metadata": {},
   "source": [
    "## Writeup and Submission\n",
    "\n",
    "If you're satisfied with your video outputs, it's time to make the report writeup in a pdf or markdown file. Once you have this Ipython notebook ready along with the writeup, it's time to submit for review! Here is a [link](https://github.com/udacity/CarND-LaneLines-P1/blob/master/writeup_template.md) to the writeup template file.\n"
   ]
  },
  {
   "cell_type": "markdown",
   "metadata": {
    "collapsed": true
   },
   "source": [
    "## Optional Challenge\n",
    "\n",
    "Try your lane finding pipeline on the video below.  Does it still work?  Can you figure out a way to make it more robust?  If you're up for the challenge, modify your pipeline so it works with this video and submit it along with the rest of your project!"
   ]
  },
  {
   "cell_type": "code",
   "execution_count": 36,
   "metadata": {},
   "outputs": [
    {
     "name": "stdout",
     "output_type": "stream",
     "text": [
      "Height:  720  Width:  1280\n",
      "[MoviePy] >>>> Building video test_videos_output/challenge.mp4\n",
      "[MoviePy] Writing video test_videos_output/challenge.mp4\n"
     ]
    },
    {
     "name": "stderr",
     "output_type": "stream",
     "text": [
      "  2%|▏         | 4/251 [00:00<00:07, 31.56it/s]"
     ]
    },
    {
     "name": "stdout",
     "output_type": "stream",
     "text": [
      "Outlier slope... skipping\n",
      "Outlier slope... skipping\n"
     ]
    },
    {
     "name": "stderr",
     "output_type": "stream",
     "text": [
      "  6%|▌         | 14/251 [00:00<00:07, 30.36it/s]"
     ]
    },
    {
     "name": "stdout",
     "output_type": "stream",
     "text": [
      "Outlier slope... skipping\n",
      "Outlier slope... skipping\n",
      "Outlier slope... skipping\n",
      "Outlier slope... skipping\n",
      "Outlier slope... skipping\n",
      "Outlier slope... skipping\n",
      "Outlier slope... skipping\n",
      "Outlier slope... skipping\n",
      "Outlier slope... skipping\n",
      "Outlier slope... skipping\n",
      "Outlier slope... skipping\n"
     ]
    },
    {
     "name": "stderr",
     "output_type": "stream",
     "text": [
      "  8%|▊         | 21/251 [00:00<00:07, 29.64it/s]"
     ]
    },
    {
     "name": "stdout",
     "output_type": "stream",
     "text": [
      "Outlier slope... skipping\n",
      "Outlier slope... skipping\n",
      "Outlier slope... skipping\n",
      "Outlier slope... skipping\n",
      "Outlier slope... skipping\n",
      "Outlier slope... skipping\n",
      "Outlier slope... skipping\n",
      "Outlier slope... skipping\n",
      "Outlier slope... skipping\n",
      "Outlier slope... skipping\n",
      "Outlier slope... skipping\n",
      "Outlier slope... skipping\n",
      "Outlier slope... skipping\n"
     ]
    },
    {
     "name": "stderr",
     "output_type": "stream",
     "text": [
      "\r",
      " 10%|▉         | 25/251 [00:00<00:07, 30.48it/s]"
     ]
    },
    {
     "name": "stdout",
     "output_type": "stream",
     "text": [
      "Outlier slope... skipping\n",
      "Outlier slope... skipping\n",
      "Outlier slope... skipping\n",
      "Outlier slope... skipping\n",
      "Outlier slope... skipping\n",
      "Outlier slope... skipping\n",
      "Outlier slope... skipping\n",
      "Outlier slope... skipping\n",
      "Outlier slope... skipping\n",
      "Outlier slope... skipping\n",
      "Outlier slope... skipping\n",
      "Outlier slope... skipping\n",
      "Outlier slope... skipping\n",
      "Outlier slope... skipping\n",
      "Outlier slope... skipping\n",
      "Outlier slope... skipping\n",
      "Outlier slope... skipping\n",
      "Outlier slope... skipping\n",
      "Outlier slope... skipping\n"
     ]
    },
    {
     "name": "stderr",
     "output_type": "stream",
     "text": [
      " 13%|█▎        | 33/251 [00:01<00:06, 31.93it/s]"
     ]
    },
    {
     "name": "stdout",
     "output_type": "stream",
     "text": [
      "Outlier slope... skipping\n",
      "Outlier slope... skipping\n",
      "Outlier slope... skipping\n",
      "Outlier slope... skipping\n",
      "Outlier slope... skipping\n",
      "Outlier slope... skipping\n",
      "Outlier slope... skipping\n",
      "Outlier slope... skipping\n",
      "Outlier slope... skipping\n",
      "Outlier slope... skipping\n",
      "Outlier slope... skipping\n"
     ]
    },
    {
     "name": "stderr",
     "output_type": "stream",
     "text": [
      " 18%|█▊        | 45/251 [00:01<00:06, 34.31it/s]"
     ]
    },
    {
     "name": "stdout",
     "output_type": "stream",
     "text": [
      "Outlier slope... skipping\n",
      "Outlier slope... skipping\n",
      "Outlier slope... skipping\n",
      "Outlier slope... skipping\n"
     ]
    },
    {
     "name": "stderr",
     "output_type": "stream",
     "text": [
      " 23%|██▎       | 58/251 [00:02<00:10, 17.59it/s]"
     ]
    },
    {
     "name": "stdout",
     "output_type": "stream",
     "text": [
      "Outlier slope... skipping\n",
      "Outlier slope... skipping\n",
      "Outlier slope... skipping\n",
      "Outlier slope... skipping\n",
      "Outlier slope... skipping\n",
      "Outlier slope... skipping\n"
     ]
    },
    {
     "name": "stderr",
     "output_type": "stream",
     "text": [
      "\r",
      " 24%|██▍       | 61/251 [00:02<00:11, 16.52it/s]"
     ]
    },
    {
     "name": "stdout",
     "output_type": "stream",
     "text": [
      "Outlier slope... skipping\n",
      "Outlier slope... skipping\n",
      "Outlier slope... skipping\n",
      "Outlier slope... skipping\n",
      "Outlier slope... skipping\n",
      "Outlier slope... skipping\n",
      "Outlier slope... skipping\n"
     ]
    },
    {
     "name": "stderr",
     "output_type": "stream",
     "text": [
      "\r",
      " 25%|██▌       | 63/251 [00:02<00:12, 15.58it/s]"
     ]
    },
    {
     "name": "stdout",
     "output_type": "stream",
     "text": [
      "Outlier slope... skipping\n",
      "Outlier slope... skipping\n"
     ]
    },
    {
     "name": "stderr",
     "output_type": "stream",
     "text": [
      " 29%|██▉       | 74/251 [00:03<00:12, 14.26it/s]"
     ]
    },
    {
     "name": "stdout",
     "output_type": "stream",
     "text": [
      "Outlier slope... skipping\n",
      "Outlier slope... skipping\n",
      "Outlier slope... skipping\n",
      "Outlier slope... skipping\n",
      "Outlier slope... skipping\n",
      "Outlier slope... skipping\n",
      "Outlier slope... skipping\n",
      "Outlier slope... skipping\n",
      "Outlier slope... skipping\n",
      "Outlier slope... skipping\n",
      "Outlier slope... skipping\n",
      "Outlier slope... skipping\n",
      "Outlier slope... skipping\n"
     ]
    },
    {
     "name": "stderr",
     "output_type": "stream",
     "text": [
      " 32%|███▏      | 80/251 [00:03<00:12, 13.86it/s]"
     ]
    },
    {
     "name": "stdout",
     "output_type": "stream",
     "text": [
      "Outlier slope... skipping\n",
      "Outlier slope... skipping\n",
      "Outlier slope... skipping\n",
      "Outlier slope... skipping\n",
      "Outlier slope... skipping\n",
      "Outlier slope... skipping\n",
      "Outlier slope... skipping\n",
      "Outlier slope... skipping\n",
      "Outlier slope... skipping\n",
      "Outlier slope... skipping\n",
      "Outlier slope... skipping\n",
      "Outlier slope... skipping\n",
      "Outlier slope... skipping\n",
      "Outlier slope... skipping\n",
      "Outlier slope... skipping\n",
      "Outlier slope... skipping\n",
      "Outlier slope... skipping\n",
      "Outlier slope... skipping\n",
      "Outlier slope... skipping\n",
      "Outlier slope... skipping\n",
      "Outlier slope... skipping\n",
      "Outlier slope... skipping\n",
      "Outlier slope... skipping\n"
     ]
    },
    {
     "name": "stderr",
     "output_type": "stream",
     "text": [
      " 33%|███▎      | 84/251 [00:04<00:14, 11.90it/s]"
     ]
    },
    {
     "name": "stdout",
     "output_type": "stream",
     "text": [
      "Outlier slope... skipping\n",
      "Outlier slope... skipping\n",
      "Outlier slope... skipping\n",
      "Outlier slope... skipping\n",
      "Outlier slope... skipping\n",
      "Outlier slope... skipping\n",
      "Outlier slope... skipping\n",
      "Outlier slope... skipping\n",
      "Outlier slope... skipping\n",
      "Outlier slope... skipping\n",
      "Outlier slope... skipping\n",
      "Outlier slope... skipping\n",
      "Outlier slope... skipping\n",
      "Outlier slope... skipping\n",
      "Outlier slope... skipping\n",
      "Outlier slope... skipping\n",
      "Outlier slope... skipping\n",
      "Outlier slope... skipping\n",
      "Outlier slope... skipping\n",
      "Outlier slope... skipping\n",
      "Outlier slope... skipping\n",
      "Outlier slope... skipping\n",
      "Outlier slope... skipping\n",
      "Outlier slope... skipping\n",
      "Outlier slope... skipping\n",
      "Outlier slope... skipping\n",
      "Outlier slope... skipping\n",
      "Outlier slope... skipping\n"
     ]
    },
    {
     "name": "stderr",
     "output_type": "stream",
     "text": [
      "\r",
      " 35%|███▍      | 87/251 [00:04<00:12, 13.60it/s]"
     ]
    },
    {
     "name": "stdout",
     "output_type": "stream",
     "text": [
      "Outlier slope... skipping\n",
      "Outlier slope... skipping\n",
      "Outlier slope... skipping\n",
      "Outlier slope... skipping\n",
      "Outlier slope... skipping\n",
      "Outlier slope... skipping\n",
      "Outlier slope... skipping\n",
      "Outlier slope... skipping\n",
      "Outlier slope... skipping\n",
      "Outlier slope... skipping\n",
      "Outlier slope... skipping\n",
      "Outlier slope... skipping\n",
      "Outlier slope... skipping\n",
      "Outlier slope... skipping\n",
      "Outlier slope... skipping\n",
      "Outlier slope... skipping\n",
      "Outlier slope... skipping\n",
      "Outlier slope... skipping\n",
      "Outlier slope... skipping\n",
      "Outlier slope... skipping\n",
      "Outlier slope... skipping\n",
      "Outlier slope... skipping\n",
      "No detections on right or left line - using previous results\n",
      "Outlier slope... skipping\n",
      "Outlier slope... skipping\n",
      "Outlier slope... skipping\n",
      "Outlier slope... skipping\n",
      "Outlier slope... skipping\n",
      "Outlier slope... skipping\n",
      "Outlier slope... skipping\n",
      "Outlier slope... skipping\n",
      "Outlier slope... skipping\n",
      "Outlier slope... skipping\n",
      "Outlier slope... skipping\n",
      "Outlier slope... skipping\n",
      "Outlier slope... skipping\n",
      "Outlier slope... skipping\n",
      "Outlier slope... skipping\n",
      "Outlier slope... skipping\n",
      "No detections on right or left line - using previous results\n",
      "Outlier slope... skipping\n",
      "Outlier slope... skipping\n",
      "Outlier slope... skipping\n",
      "Outlier slope... skipping\n",
      "Outlier slope... skipping\n",
      "Outlier slope... skipping\n",
      "Outlier slope... skipping\n",
      "Outlier slope... skipping\n",
      "Outlier slope... skipping\n",
      "Outlier slope... skipping\n",
      "Outlier slope... skipping\n",
      "Outlier slope... skipping\n",
      "No detections on right or left line - using previous results\n"
     ]
    },
    {
     "name": "stderr",
     "output_type": "stream",
     "text": [
      " 36%|███▋      | 91/251 [00:04<00:14, 11.42it/s]"
     ]
    },
    {
     "name": "stdout",
     "output_type": "stream",
     "text": [
      "Outlier slope... skipping\n",
      "Outlier slope... skipping\n",
      "Outlier slope... skipping\n",
      "Outlier slope... skipping\n",
      "Outlier slope... skipping\n",
      "Outlier slope... skipping\n",
      "Outlier slope... skipping\n",
      "Outlier slope... skipping\n",
      "Outlier slope... skipping\n",
      "Outlier slope... skipping\n",
      "Outlier slope... skipping\n",
      "Outlier slope... skipping\n",
      "Outlier slope... skipping\n",
      "Outlier slope... skipping\n",
      "Outlier slope... skipping\n",
      "Outlier slope... skipping\n",
      "Outlier slope... skipping\n",
      "Outlier slope... skipping\n",
      "Outlier slope... skipping\n",
      "Outlier slope... skipping\n",
      "Outlier slope... skipping\n",
      "Outlier slope... skipping\n",
      "Outlier slope... skipping\n",
      "Outlier slope... skipping\n",
      "Outlier slope... skipping\n",
      "Outlier slope... skipping\n",
      "Outlier slope... skipping\n",
      "Outlier slope... skipping\n",
      "Outlier slope... skipping\n",
      "No detections on right or left line - using previous results\n",
      "Outlier slope... skipping\n",
      "Outlier slope... skipping\n",
      "Outlier slope... skipping\n",
      "Outlier slope... skipping\n",
      "Outlier slope... skipping\n",
      "Outlier slope... skipping\n",
      "Outlier slope... skipping\n",
      "Outlier slope... skipping\n",
      "Outlier slope... skipping\n",
      "Outlier slope... skipping\n",
      "Outlier slope... skipping\n",
      "Outlier slope... skipping\n",
      "Outlier slope... skipping\n",
      "Outlier slope... skipping\n",
      "Outlier slope... skipping\n",
      "Outlier slope... skipping\n",
      "Outlier slope... skipping\n"
     ]
    },
    {
     "name": "stderr",
     "output_type": "stream",
     "text": [
      " 38%|███▊      | 95/251 [00:05<00:11, 13.04it/s]"
     ]
    },
    {
     "name": "stdout",
     "output_type": "stream",
     "text": [
      "Outlier slope... skipping\n",
      "Outlier slope... skipping\n",
      "Outlier slope... skipping\n",
      "Outlier slope... skipping\n",
      "Outlier slope... skipping\n",
      "Outlier slope... skipping\n",
      "Outlier slope... skipping\n",
      "Outlier slope... skipping\n",
      "Outlier slope... skipping\n",
      "Outlier slope... skipping\n",
      "Outlier slope... skipping\n",
      "Outlier slope... skipping\n",
      "Outlier slope... skipping\n",
      "Outlier slope... skipping\n",
      "Outlier slope... skipping\n",
      "Outlier slope... skipping\n",
      "Outlier slope... skipping\n",
      "Outlier slope... skipping\n",
      "Outlier slope... skipping\n",
      "No detections on right or left line - using previous results\n",
      "Outlier slope... skipping\n",
      "Outlier slope... skipping\n",
      "Outlier slope... skipping\n",
      "Outlier slope... skipping\n",
      "Outlier slope... skipping\n",
      "Outlier slope... skipping\n",
      "Outlier slope... skipping\n",
      "Outlier slope... skipping\n",
      "Outlier slope... skipping\n",
      "Outlier slope... skipping\n",
      "Outlier slope... skipping\n",
      "Outlier slope... skipping\n",
      "Outlier slope... skipping\n",
      "Outlier slope... skipping\n",
      "Outlier slope... skipping\n",
      "Outlier slope... skipping\n",
      "Outlier slope... skipping\n",
      "Outlier slope... skipping\n",
      "No detections on right or left line - using previous results\n",
      "Outlier slope... skipping\n",
      "Outlier slope... skipping\n",
      "Outlier slope... skipping\n",
      "Outlier slope... skipping\n",
      "Outlier slope... skipping\n",
      "Outlier slope... skipping\n",
      "Outlier slope... skipping\n",
      "Outlier slope... skipping\n",
      "Outlier slope... skipping\n",
      "Outlier slope... skipping\n",
      "Outlier slope... skipping\n",
      "Outlier slope... skipping\n",
      "Outlier slope... skipping\n",
      "Outlier slope... skipping\n",
      "Outlier slope... skipping\n",
      "Outlier slope... skipping\n",
      "Outlier slope... skipping\n",
      "Outlier slope... skipping\n",
      "Outlier slope... skipping\n",
      "Outlier slope... skipping\n",
      "Outlier slope... skipping\n",
      "Outlier slope... skipping\n",
      "Outlier slope... skipping\n",
      "Outlier slope... skipping\n",
      "Outlier slope... skipping\n",
      "No detections on right or left line - using previous results\n",
      "Outlier slope... skipping\n",
      "Outlier slope... skipping\n",
      "Outlier slope... skipping\n",
      "Outlier slope... skipping\n",
      "Outlier slope... skipping\n",
      "Outlier slope... skipping\n",
      "Outlier slope... skipping\n",
      "Outlier slope... skipping\n",
      "Outlier slope... skipping\n",
      "Outlier slope... skipping\n",
      "Outlier slope... skipping\n",
      "Outlier slope... skipping\n",
      "Outlier slope... skipping\n",
      "Outlier slope... skipping\n",
      "Outlier slope... skipping\n",
      "Outlier slope... skipping\n",
      "Outlier slope... skipping\n",
      "Outlier slope... skipping\n",
      "Outlier slope... skipping\n",
      "Outlier slope... skipping\n",
      "Outlier slope... skipping\n",
      "No detections on right or left line - using previous results\n"
     ]
    },
    {
     "name": "stderr",
     "output_type": "stream",
     "text": [
      "\r",
      " 39%|███▊      | 97/251 [00:05<00:12, 12.47it/s]"
     ]
    },
    {
     "name": "stdout",
     "output_type": "stream",
     "text": [
      "Outlier slope... skipping\n",
      "Outlier slope... skipping\n",
      "Outlier slope... skipping\n",
      "Outlier slope... skipping\n",
      "Outlier slope... skipping\n",
      "Outlier slope... skipping\n",
      "Outlier slope... skipping\n",
      "Outlier slope... skipping\n",
      "Outlier slope... skipping\n",
      "Outlier slope... skipping\n",
      "Outlier slope... skipping\n",
      "Outlier slope... skipping\n",
      "Outlier slope... skipping\n",
      "Outlier slope... skipping\n",
      "Outlier slope... skipping\n",
      "Outlier slope... skipping\n",
      "Outlier slope... skipping\n",
      "Outlier slope... skipping\n",
      "Outlier slope... skipping\n",
      "Outlier slope... skipping\n",
      "Outlier slope... skipping\n",
      "Outlier slope... skipping\n",
      "Outlier slope... skipping\n",
      "Outlier slope... skipping\n",
      "Outlier slope... skipping\n",
      "Outlier slope... skipping\n",
      "Outlier slope... skipping\n",
      "Outlier slope... skipping\n",
      "Outlier slope... skipping\n",
      "Outlier slope... skipping\n",
      "Outlier slope... skipping\n",
      "Outlier slope... skipping\n",
      "Outlier slope... skipping\n",
      "Outlier slope... skipping\n",
      "Outlier slope... skipping\n",
      "Outlier slope... skipping\n",
      "Outlier slope... skipping\n",
      "Outlier slope... skipping\n",
      "Outlier slope... skipping\n",
      "Outlier slope... skipping\n",
      "Outlier slope... skipping\n",
      "Outlier slope... skipping\n",
      "Outlier slope... skipping\n",
      "Outlier slope... skipping\n",
      "Outlier slope... skipping\n",
      "Outlier slope... skipping\n",
      "Outlier slope... skipping\n",
      "Outlier slope... skipping\n",
      "Outlier slope... skipping\n",
      "Outlier slope... skipping\n",
      "Outlier slope... skipping\n",
      "Outlier slope... skipping\n",
      "Outlier slope... skipping\n",
      "Outlier slope... skipping\n",
      "Outlier slope... skipping\n",
      "Outlier slope... skipping\n",
      "Outlier slope... skipping\n",
      "Outlier slope... skipping\n",
      "No detections on right or left line - using previous results\n"
     ]
    },
    {
     "name": "stderr",
     "output_type": "stream",
     "text": [
      " 40%|████      | 101/251 [00:05<00:11, 13.15it/s]"
     ]
    },
    {
     "name": "stdout",
     "output_type": "stream",
     "text": [
      "Outlier slope... skipping\n",
      "Outlier slope... skipping\n",
      "Outlier slope... skipping\n",
      "Outlier slope... skipping\n",
      "Outlier slope... skipping\n",
      "Outlier slope... skipping\n",
      "Outlier slope... skipping\n",
      "Outlier slope... skipping\n",
      "Outlier slope... skipping\n",
      "Outlier slope... skipping\n",
      "Outlier slope... skipping\n",
      "Outlier slope... skipping\n",
      "Outlier slope... skipping\n",
      "Outlier slope... skipping\n",
      "Outlier slope... skipping\n",
      "Outlier slope... skipping\n",
      "No detections on right or left line - using previous results\n",
      "Outlier slope... skipping\n",
      "Outlier slope... skipping\n",
      "Outlier slope... skipping\n",
      "Outlier slope... skipping\n",
      "Outlier slope... skipping\n",
      "Outlier slope... skipping\n",
      "Outlier slope... skipping\n",
      "Outlier slope... skipping\n",
      "Outlier slope... skipping\n",
      "Outlier slope... skipping\n",
      "Outlier slope... skipping\n",
      "Outlier slope... skipping\n",
      "Outlier slope... skipping\n",
      "Outlier slope... skipping\n",
      "Outlier slope... skipping\n",
      "Outlier slope... skipping\n",
      "Outlier slope... skipping\n",
      "No detections on right or left line - using previous results\n",
      "Outlier slope... skipping\n",
      "Outlier slope... skipping\n",
      "Outlier slope... skipping\n",
      "Outlier slope... skipping\n",
      "Outlier slope... skipping\n",
      "Outlier slope... skipping\n",
      "Outlier slope... skipping\n",
      "Outlier slope... skipping\n",
      "Outlier slope... skipping\n",
      "Outlier slope... skipping\n",
      "Outlier slope... skipping\n",
      "No detections on right or left line - using previous results\n",
      "Outlier slope... skipping\n",
      "Outlier slope... skipping\n",
      "Outlier slope... skipping\n",
      "Outlier slope... skipping\n",
      "Outlier slope... skipping"
     ]
    },
    {
     "name": "stderr",
     "output_type": "stream",
     "text": [
      "\r",
      " 41%|████      | 103/251 [00:05<00:10, 13.99it/s]"
     ]
    },
    {
     "name": "stdout",
     "output_type": "stream",
     "text": [
      "\n",
      "Outlier slope... skipping\n",
      "Outlier slope... skipping\n",
      "Outlier slope... skipping\n",
      "Outlier slope... skipping\n",
      "Outlier slope... skipping\n",
      "Outlier slope... skipping\n",
      "Outlier slope... skipping\n",
      "Outlier slope... skipping\n",
      "Outlier slope... skipping\n",
      "Outlier slope... skipping\n",
      "No detections on right or left line - using previous results\n",
      "Outlier slope... skipping\n",
      "Outlier slope... skipping\n",
      "Outlier slope... skipping\n",
      "Outlier slope... skipping\n",
      "Outlier slope... skipping\n",
      "Outlier slope... skipping\n",
      "Outlier slope... skipping\n",
      "Outlier slope... skipping\n",
      "Outlier slope... skipping\n",
      "Outlier slope... skipping\n",
      "Outlier slope... skipping\n",
      "Outlier slope... skipping\n",
      "Outlier slope... skipping\n",
      "Outlier slope... skipping\n",
      "Outlier slope... skipping\n",
      "Outlier slope... skipping\n",
      "Outlier slope... skipping\n",
      "Outlier slope... skipping\n",
      "Outlier slope... skipping\n",
      "No detections on right or left line - using previous results\n",
      "Outlier slope... skipping\n",
      "Outlier slope... skipping\n",
      "Outlier slope... skipping\n",
      "Outlier slope... skipping\n",
      "Outlier slope... skipping\n",
      "Outlier slope... skipping\n",
      "Outlier slope... skipping\n",
      "Outlier slope... skipping\n",
      "Outlier slope... skipping\n",
      "Outlier slope... skipping\n",
      "Outlier slope... skipping\n",
      "Outlier slope... skipping\n",
      "Outlier slope... skipping\n",
      "Outlier slope... skipping\n",
      "Outlier slope... skipping\n",
      "Outlier slope... skipping\n",
      "Outlier slope... skipping\n",
      "Outlier slope... skipping\n",
      "Outlier slope... skipping\n",
      "Outlier slope... skipping\n",
      "No detections on right or left line - using previous results\n"
     ]
    },
    {
     "name": "stderr",
     "output_type": "stream",
     "text": [
      "\r",
      " 42%|████▏     | 105/251 [00:05<00:12, 12.16it/s]"
     ]
    },
    {
     "name": "stdout",
     "output_type": "stream",
     "text": [
      "Outlier slope... skipping\n",
      "Outlier slope... skipping\n",
      "Outlier slope... skipping\n",
      "Outlier slope... skipping\n",
      "Outlier slope... skipping\n",
      "Outlier slope... skipping\n",
      "Outlier slope... skipping\n",
      "Outlier slope... skipping\n",
      "Outlier slope... skipping\n",
      "Outlier slope... skipping\n",
      "Outlier slope... skipping\n",
      "Outlier slope... skipping\n",
      "Outlier slope... skipping\n",
      "Outlier slope... skipping\n",
      "Outlier slope... skipping\n",
      "Outlier slope... skipping\n",
      "Outlier slope... skipping\n",
      "Outlier slope... skipping\n",
      "Outlier slope... skipping\n",
      "Outlier slope... skipping\n",
      "Outlier slope... skipping\n",
      "Outlier slope... skipping\n",
      "Outlier slope... skipping\n",
      "Outlier slope... skipping\n",
      "Outlier slope... skipping\n",
      "Outlier slope... skipping\n",
      "Outlier slope... skipping\n",
      "Outlier slope... skipping\n",
      "Outlier slope... skipping\n",
      "Outlier slope... skipping\n",
      "Outlier slope... skipping\n",
      "Outlier slope... skipping\n",
      "Outlier slope... skipping\n",
      "Outlier slope... skipping\n",
      "Outlier slope... skipping\n",
      "Outlier slope... skipping\n",
      "Outlier slope... skipping\n",
      "Outlier slope... skipping\n",
      "Outlier slope... skipping\n",
      "Outlier slope... skipping\n",
      "Outlier slope... skipping\n",
      "Outlier slope... skipping\n",
      "Outlier slope... skipping\n",
      "Outlier slope... skipping\n",
      "Outlier slope... skipping\n",
      "Outlier slope... skipping\n",
      "Outlier slope... skipping\n",
      "Outlier slope... skipping\n",
      "Outlier slope... skipping\n",
      "No detections on right or left line - using previous results\n",
      "Outlier slope... skipping\n",
      "Outlier slope... skipping\n",
      "Outlier slope... skipping\n",
      "Outlier slope... skipping\n",
      "Outlier slope... skipping\n",
      "Outlier slope... skipping\n",
      "Outlier slope... skipping\n",
      "Outlier slope... skipping\n",
      "Outlier slope... skipping\n",
      "Outlier slope... skipping\n",
      "Outlier slope... skipping\n",
      "Outlier slope... skipping\n",
      "Outlier slope... skipping\n",
      "Outlier slope... skipping\n",
      "Outlier slope... skipping\n",
      "Outlier slope... skipping\n",
      "Outlier slope... skipping\n",
      "Outlier slope... skipping\n",
      "Outlier slope... skipping\n",
      "Outlier slope... skipping\n",
      "Outlier slope... skipping\n",
      "Outlier slope... skipping\n",
      "Outlier slope... skipping\n",
      "Outlier slope... skipping\n"
     ]
    },
    {
     "name": "stderr",
     "output_type": "stream",
     "text": [
      " 43%|████▎     | 109/251 [00:06<00:10, 13.50it/s]"
     ]
    },
    {
     "name": "stdout",
     "output_type": "stream",
     "text": [
      "Outlier slope... skipping\n",
      "Outlier slope... skipping\n",
      "No detections on right or left line - using previous results\n",
      "Outlier slope... skipping\n",
      "Outlier slope... skipping\n",
      "Outlier slope... skipping\n",
      "Outlier slope... skipping\n",
      "Outlier slope... skipping\n",
      "Outlier slope... skipping\n",
      "Outlier slope... skipping\n",
      "Outlier slope... skipping\n",
      "Outlier slope... skipping\n",
      "Outlier slope... skipping\n",
      "Outlier slope... skipping\n",
      "Outlier slope... skipping\n",
      "Outlier slope... skipping\n",
      "Outlier slope... skipping\n",
      "Outlier slope... skipping\n",
      "Outlier slope... skipping\n",
      "Outlier slope... skipping\n",
      "Outlier slope... skipping\n",
      "Outlier slope... skipping\n",
      "Outlier slope... skipping\n",
      "Outlier slope... skipping\n",
      "Outlier slope... skipping\n",
      "Outlier slope... skipping\n",
      "Outlier slope... skipping\n",
      "Outlier slope... skipping\n",
      "No detections on right or left line - using previous results\n",
      "Outlier slope... skipping\n",
      "Outlier slope... skipping\n",
      "Outlier slope... skipping\n",
      "Outlier slope... skipping\n",
      "Outlier slope... skipping\n",
      "Outlier slope... skipping\n",
      "Outlier slope... skipping\n",
      "Outlier slope... skipping\n",
      "Outlier slope... skipping\n",
      "Outlier slope... skipping\n",
      "Outlier slope... skipping\n",
      "Outlier slope... skipping\n",
      "Outlier slope... skipping\n",
      "Outlier slope... skipping\n",
      "Outlier slope... skipping\n",
      "Outlier slope... skipping\n",
      "Outlier slope... skipping\n",
      "No detections on right or left line - using previous results\n",
      "Outlier slope... skipping\n",
      "Outlier slope... skipping\n",
      "Outlier slope... skipping\n",
      "Outlier slope... skipping\n",
      "Outlier slope... skipping\n",
      "Outlier slope... skipping\n",
      "Outlier slope... skipping\n",
      "Outlier slope... skipping\n",
      "Outlier slope... skipping\n",
      "Outlier slope... skipping\n",
      "Outlier slope... skipping\n",
      "Outlier slope... skipping\n",
      "Outlier slope... skipping\n",
      "Outlier slope... skipping\n",
      "Outlier slope... skipping\n",
      "Outlier slope... skipping\n",
      "Outlier slope... skipping\n",
      "Outlier slope... skipping\n",
      "Outlier slope... skipping\n",
      "Outlier slope... skipping\n",
      "No detections on right or left line - using previous results\n",
      "Outlier slope... skipping\n"
     ]
    },
    {
     "name": "stderr",
     "output_type": "stream",
     "text": [
      "\r",
      " 45%|████▍     | 112/251 [00:06<00:09, 15.01it/s]"
     ]
    },
    {
     "name": "stdout",
     "output_type": "stream",
     "text": [
      "Outlier slope... skipping\n",
      "Outlier slope... skipping\n",
      "Outlier slope... skipping\n",
      "Outlier slope... skipping\n",
      "Outlier slope... skipping\n"
     ]
    },
    {
     "name": "stderr",
     "output_type": "stream",
     "text": [
      " 46%|████▌     | 116/251 [00:06<00:10, 13.04it/s]"
     ]
    },
    {
     "name": "stdout",
     "output_type": "stream",
     "text": [
      "No detections on right or left line - using previous results\n",
      "Outlier slope... skipping\n",
      "No detections on right or left line - using previous results\n",
      "Outlier slope... skipping\n",
      "No detections on right or left line - using previous results\n"
     ]
    },
    {
     "name": "stderr",
     "output_type": "stream",
     "text": [
      "\r",
      " 47%|████▋     | 118/251 [00:06<00:09, 13.41it/s]"
     ]
    },
    {
     "name": "stdout",
     "output_type": "stream",
     "text": [
      "No detections on right or left line - using previous results\n",
      "Outlier slope... skipping\n",
      "Outlier slope... skipping\n",
      "No detections on right or left line - using previous results\n"
     ]
    },
    {
     "name": "stderr",
     "output_type": "stream",
     "text": [
      "\r",
      " 48%|████▊     | 120/251 [00:07<00:10, 12.72it/s]"
     ]
    },
    {
     "name": "stdout",
     "output_type": "stream",
     "text": [
      "Outlier slope... skipping\n",
      "Outlier slope... skipping\n",
      "No detections on right or left line - using previous results\n",
      "No detections on right or left line - using previous results\n"
     ]
    },
    {
     "name": "stderr",
     "output_type": "stream",
     "text": [
      " 49%|████▉     | 124/251 [00:07<00:16,  7.84it/s]"
     ]
    },
    {
     "name": "stdout",
     "output_type": "stream",
     "text": [
      "No detections on right or left line - using previous results\n",
      "No detections on right or left line - using previous results\n",
      "No detections on right or left line - using previous results\n"
     ]
    },
    {
     "name": "stderr",
     "output_type": "stream",
     "text": [
      "\r",
      " 50%|█████     | 126/251 [00:08<00:15,  8.20it/s]"
     ]
    },
    {
     "name": "stdout",
     "output_type": "stream",
     "text": [
      "No detections on right or left line - using previous results\n",
      "No detections on right or left line - using previous results\n",
      "No detections on right or left line - using previous results\n",
      "No detections on right or left line - using previous results\n"
     ]
    },
    {
     "name": "stderr",
     "output_type": "stream",
     "text": [
      " 51%|█████▏    | 129/251 [00:08<00:18,  6.72it/s]"
     ]
    },
    {
     "name": "stdout",
     "output_type": "stream",
     "text": [
      "Outlier slope... skipping\n",
      "Outlier slope... skipping\n",
      "No detections on right or left line - using previous results\n",
      "No detections on right or left line - using previous results\n"
     ]
    },
    {
     "name": "stderr",
     "output_type": "stream",
     "text": [
      " 53%|█████▎    | 133/251 [00:09<00:17,  6.58it/s]"
     ]
    },
    {
     "name": "stdout",
     "output_type": "stream",
     "text": [
      "Outlier slope... skipping\n",
      "Outlier slope... skipping\n",
      "Outlier slope... skipping\n",
      "Outlier slope... skipping\n",
      "Outlier slope... skipping\n",
      "Outlier slope... skipping\n",
      "Outlier slope... skipping\n",
      "Outlier slope... skipping\n",
      "Outlier slope... skipping\n",
      "Outlier slope... skipping\n"
     ]
    },
    {
     "name": "stderr",
     "output_type": "stream",
     "text": [
      "\r",
      " 54%|█████▍    | 135/251 [00:09<00:15,  7.37it/s]"
     ]
    },
    {
     "name": "stdout",
     "output_type": "stream",
     "text": [
      "Outlier slope... skipping\n",
      "Outlier slope... skipping\n",
      "Outlier slope... skipping\n",
      "Outlier slope... skipping\n",
      "Outlier slope... skipping\n",
      "Outlier slope... skipping\n",
      "Outlier slope... skipping\n",
      "Outlier slope... skipping\n",
      "Outlier slope... skipping\n",
      "Outlier slope... skipping\n",
      "Outlier slope... skipping\n",
      "Outlier slope... skipping\n",
      "Outlier slope... skipping\n",
      "Outlier slope... skipping\n",
      "Outlier slope... skipping\n",
      "Outlier slope... skipping\n",
      "Outlier slope... skipping\n",
      "Outlier slope... skipping\n",
      "Outlier slope... skipping\n",
      "No detections on right or left line - using previous results\n"
     ]
    },
    {
     "name": "stderr",
     "output_type": "stream",
     "text": [
      " 55%|█████▍    | 138/251 [00:10<00:20,  5.64it/s]"
     ]
    },
    {
     "name": "stdout",
     "output_type": "stream",
     "text": [
      "Outlier slope... skipping\n",
      "Outlier slope... skipping\n",
      "Outlier slope... skipping\n",
      "Outlier slope... skipping\n",
      "Outlier slope... skipping\n"
     ]
    },
    {
     "name": "stderr",
     "output_type": "stream",
     "text": [
      "\r",
      " 55%|█████▌    | 139/251 [00:10<00:19,  5.79it/s]"
     ]
    },
    {
     "name": "stdout",
     "output_type": "stream",
     "text": [
      "Outlier slope... skipping\n",
      "Outlier slope... skipping\n",
      "Outlier slope... skipping\n",
      "Outlier slope... skipping\n",
      "Outlier slope... skipping\n",
      "Outlier slope... skipping\n",
      "Outlier slope... skipping\n",
      "Outlier slope... skipping\n"
     ]
    },
    {
     "name": "stderr",
     "output_type": "stream",
     "text": [
      " 56%|█████▌    | 141/251 [00:10<00:16,  6.81it/s]"
     ]
    },
    {
     "name": "stdout",
     "output_type": "stream",
     "text": [
      "Outlier slope... skipping\n",
      "Outlier slope... skipping\n",
      "Outlier slope... skipping\n",
      "Outlier slope... skipping\n",
      "Outlier slope... skipping\n",
      "Outlier slope... skipping\n",
      "Outlier slope... skipping\n",
      "Outlier slope... skipping\n",
      "Outlier slope... skipping\n",
      "Outlier slope... skipping\n",
      "Outlier slope... skipping\n",
      "Outlier slope... skipping\n",
      "Outlier slope... skipping\n",
      "Outlier slope... skipping\n",
      "Outlier slope... skipping\n",
      "Outlier slope... skipping\n",
      "Outlier slope... skipping\n",
      "Outlier slope... skipping\n",
      "Outlier slope... skipping\n"
     ]
    },
    {
     "name": "stderr",
     "output_type": "stream",
     "text": [
      " 57%|█████▋    | 143/251 [00:10<00:14,  7.28it/s]"
     ]
    },
    {
     "name": "stdout",
     "output_type": "stream",
     "text": [
      "Outlier slope... skipping\n",
      "Outlier slope... skipping\n",
      "Outlier slope... skipping\n",
      "Outlier slope... skipping\n",
      "Outlier slope... skipping\n",
      "Outlier slope... skipping\n",
      "Outlier slope... skipping\n",
      "Outlier slope... skipping\n",
      "Outlier slope... skipping\n",
      "Outlier slope... skipping\n",
      "Outlier slope... skipping\n",
      "Outlier slope... skipping\n",
      "Outlier slope... skipping\n",
      "Outlier slope... skipping\n",
      "Outlier slope... skipping\n",
      "Outlier slope... skipping\n",
      "Outlier slope... skipping\n",
      "Outlier slope... skipping\n",
      "Outlier slope... skipping\n",
      "Outlier slope... skipping\n",
      "Outlier slope... skipping\n",
      "Outlier slope... skipping\n",
      "Outlier slope... skipping\n",
      "Outlier slope... skipping\n",
      "Outlier slope... skipping\n",
      "Outlier slope... skipping\n",
      "Outlier slope... skipping\n",
      "Outlier slope... skipping\n",
      "Outlier slope... skipping\n",
      "Outlier slope... skipping\n",
      "Outlier slope... skipping\n",
      "Outlier slope... skipping\n",
      "Outlier slope... skipping\n",
      "Outlier slope... skipping\n",
      "Outlier slope... skipping\n",
      "Outlier slope... skipping\n",
      "Outlier slope... skipping\n",
      "Outlier slope... skipping\n",
      "Outlier slope... skipping\n",
      "Outlier slope... skipping\n",
      "Outlier slope... skipping\n",
      "Outlier slope... skipping\n",
      "Outlier slope... skipping\n",
      "Outlier slope... skipping\n",
      "Outlier slope... skipping\n",
      "Outlier slope... skipping\n",
      "Outlier slope... skipping\n",
      "Outlier slope... skipping\n",
      "Outlier slope... skipping\n",
      "Outlier slope... skipping\n",
      "Outlier slope... skipping\n",
      "Outlier slope... skipping\n",
      "Outlier slope... skipping\n",
      "Outlier slope... skipping\n",
      "Outlier slope... skipping\n",
      "Outlier slope... skipping\n",
      "Outlier slope... skipping\n",
      "Outlier slope... skipping\n",
      "Outlier slope... skipping\n",
      "Outlier slope... skipping\n",
      "Outlier slope... skipping\n",
      "Outlier slope... skipping\n",
      "Outlier slope... skipping\n",
      "Outlier slope... skipping\n",
      "Outlier slope... skipping\n",
      "Outlier slope... skipping\n",
      "Outlier slope... skipping\n",
      "Outlier slope... skipping\n",
      "Outlier slope... skipping\n",
      "Outlier slope... skipping\n",
      "Outlier slope... skipping\n",
      "Outlier slope... skipping\n",
      "Outlier slope... skipping\n",
      "Outlier slope... skipping\n",
      "Outlier slope... skipping\n",
      "Outlier slope... skipping\n",
      "Outlier slope... skipping\n",
      "Outlier slope... skipping\n"
     ]
    },
    {
     "name": "stderr",
     "output_type": "stream",
     "text": [
      " 59%|█████▊    | 147/251 [00:11<00:12,  8.09it/s]"
     ]
    },
    {
     "name": "stdout",
     "output_type": "stream",
     "text": [
      "Outlier slope... skipping\n",
      "Outlier slope... skipping\n",
      "Outlier slope... skipping\n",
      "Outlier slope... skipping\n",
      "Outlier slope... skipping\n",
      "Outlier slope... skipping\n",
      "Outlier slope... skipping\n",
      "Outlier slope... skipping\n",
      "Outlier slope... skipping\n",
      "Outlier slope... skipping\n",
      "Outlier slope... skipping\n",
      "Outlier slope... skipping\n",
      "Outlier slope... skipping\n",
      "Outlier slope... skipping\n",
      "Outlier slope... skipping\n",
      "Outlier slope... skipping\n",
      "Outlier slope... skipping\n",
      "Outlier slope... skipping\n",
      "Outlier slope... skipping\n",
      "Outlier slope... skipping\n",
      "Outlier slope... skipping\n",
      "Outlier slope... skipping\n",
      "Outlier slope... skipping\n",
      "Outlier slope... skipping\n",
      "Outlier slope... skipping\n",
      "Outlier slope... skipping\n",
      "Outlier slope... skipping\n",
      "Outlier slope... skipping\n",
      "Outlier slope... skipping\n",
      "Outlier slope... skipping\n",
      "Outlier slope... skipping\n",
      "Outlier slope... skipping\n",
      "Outlier slope... skipping\n",
      "Outlier slope... skipping\n",
      "Outlier slope... skipping\n",
      "Outlier slope... skipping\n",
      "Outlier slope... skipping\n",
      "Outlier slope... skipping\n",
      "Outlier slope... skipping\n",
      "Outlier slope... skipping\n",
      "Outlier slope... skipping\n",
      "Outlier slope... skipping\n",
      "Outlier slope... skipping\n",
      "Outlier slope... skipping\n",
      "Outlier slope... skipping\n",
      "Outlier slope... skipping\n",
      "Outlier slope... skipping\n",
      "Outlier slope... skipping\n",
      "Outlier slope... skipping\n",
      "Outlier slope... skipping\n",
      "Outlier slope... skipping\n",
      "Outlier slope... skipping\n",
      "Outlier slope... skipping\n",
      "Outlier slope... skipping\n",
      "Outlier slope... skipping\n",
      "Outlier slope... skipping\n",
      "Outlier slope... skipping\n",
      "Outlier slope... skipping\n",
      "Outlier slope... skipping\n",
      "Outlier slope... skipping\n",
      "Outlier slope... skipping\n",
      "Outlier slope... skipping\n",
      "Outlier slope... skipping\n",
      "Outlier slope... skipping\n",
      "Outlier slope... skipping\n",
      "Outlier slope... skipping\n",
      "Outlier slope... skipping\n",
      "Outlier slope... skipping\n",
      "Outlier slope... skipping\n",
      "Outlier slope... skipping\n",
      "Outlier slope... skipping\n",
      "Outlier slope... skipping\n",
      "Outlier slope... skipping\n",
      "Outlier slope... skipping\n",
      "Outlier slope... skipping\n",
      "Outlier slope... skipping\n",
      "Outlier slope... skipping\n",
      "Outlier slope... skipping\n",
      "Outlier slope... skipping\n",
      "Outlier slope... skipping\n",
      "Outlier slope... skipping\n",
      "Outlier slope... skipping\n",
      "Outlier slope... skipping\n",
      "Outlier slope... skipping\n",
      "Outlier slope... skipping\n",
      "Outlier slope... skipping\n",
      "Outlier slope... skipping\n",
      "Outlier slope... skipping\n",
      "Outlier slope... skipping\n",
      "Outlier slope... skipping\n",
      "Outlier slope... skipping\n",
      "Outlier slope... skipping\n",
      "Outlier slope... skipping\n",
      "Outlier slope... skipping\n",
      "Outlier slope... skipping\n",
      "Outlier slope... skipping\n",
      "Outlier slope... skipping\n",
      "Outlier slope... skipping\n",
      "Outlier slope... skipping\n",
      "Outlier slope... skipping\n",
      "Outlier slope... skipping\n"
     ]
    },
    {
     "name": "stderr",
     "output_type": "stream",
     "text": [
      "\r",
      " 59%|█████▉    | 149/251 [00:11<00:11,  9.21it/s]"
     ]
    },
    {
     "name": "stdout",
     "output_type": "stream",
     "text": [
      "Outlier slope... skipping\n",
      "Outlier slope... skipping\n",
      "Outlier slope... skipping\n",
      "Outlier slope... skipping\n",
      "Outlier slope... skipping\n",
      "Outlier slope... skipping\n",
      "Outlier slope... skipping\n",
      "Outlier slope... skipping\n",
      "Outlier slope... skipping\n",
      "Outlier slope... skipping\n",
      "Outlier slope... skipping\n",
      "Outlier slope... skipping\n",
      "Outlier slope... skipping\n",
      "Outlier slope... skipping\n",
      "Outlier slope... skipping\n",
      "Outlier slope... skipping\n",
      "Outlier slope... skipping\n",
      "Outlier slope... skipping\n",
      "Outlier slope... skipping\n",
      "Outlier slope... skipping\n",
      "Outlier slope... skipping\n",
      "Outlier slope... skipping\n",
      "Outlier slope... skipping\n",
      "Outlier slope... skipping\n",
      "Outlier slope... skipping\n",
      "Outlier slope... skipping\n",
      "Outlier slope... skipping\n",
      "Outlier slope... skipping\n",
      "Outlier slope... skipping\n",
      "Outlier slope... skipping\n",
      "Outlier slope... skipping\n",
      "Outlier slope... skipping\n",
      "Outlier slope... skipping\n",
      "Outlier slope... skipping\n",
      "Outlier slope... skipping\n",
      "Outlier slope... skipping\n",
      "Outlier slope... skipping\n",
      "Outlier slope... skipping\n",
      "Outlier slope... skipping\n",
      "Outlier slope... skipping\n",
      "Outlier slope... skipping\n",
      "Outlier slope... skipping\n",
      "Outlier slope... skipping\n",
      "Outlier slope... skipping\n",
      "Outlier slope... skipping\n",
      "Outlier slope... skipping\n",
      "Outlier slope... skipping\n",
      "Outlier slope... skipping\n",
      "Outlier slope... skipping\n",
      "Outlier slope... skipping\n",
      "Outlier slope... skipping\n",
      "Outlier slope... skipping\n",
      "Outlier slope... skipping\n",
      "Outlier slope... skipping\n",
      "Outlier slope... skipping\n",
      "Outlier slope... skipping\n",
      "Outlier slope... skipping\n",
      "Outlier slope... skipping\n",
      "Outlier slope... skipping\n",
      "Outlier slope... skipping\n",
      "Outlier slope... skipping\n",
      "Outlier slope... skipping\n",
      "Outlier slope... skipping\n",
      "Outlier slope... skipping\n",
      "Outlier slope... skipping\n",
      "Outlier slope... skipping\n",
      "Outlier slope... skipping\n",
      "Outlier slope... skipping\n",
      "Outlier slope... skipping\n",
      "Outlier slope... skipping\n",
      "Outlier slope... skipping\n",
      "Outlier slope... skipping\n",
      "Outlier slope... skipping\n",
      "Outlier slope... skipping\n",
      "Outlier slope... skipping\n",
      "Outlier slope... skipping\n",
      "Outlier slope... skipping\n",
      "Outlier slope... skipping\n",
      "Outlier slope... skipping\n",
      "Outlier slope... skipping\n",
      "Outlier slope... skipping\n",
      "Outlier slope... skipping\n",
      "Outlier slope... skipping\n",
      "Outlier slope... skipping\n",
      "Outlier slope... skipping\n",
      "Outlier slope... skipping\n",
      "Outlier slope... skipping\n",
      "Outlier slope... skipping\n",
      "Outlier slope... skipping\n",
      "Outlier slope... skipping\n",
      "Outlier slope... skipping\n",
      "Outlier slope... skipping\n",
      "Outlier slope... skipping\n",
      "Outlier slope... skipping\n",
      "Outlier slope... skipping\n",
      "Outlier slope... skipping\n",
      "Outlier slope... skipping\n",
      "Outlier slope... skipping\n",
      "Outlier slope... skipping\n",
      "Outlier slope... skipping\n",
      "Outlier slope... skipping\n",
      "Outlier slope... skipping\n",
      "Outlier slope... skipping\n",
      "Outlier slope... skipping\n",
      "Outlier slope... skipping\n",
      "Outlier slope... skipping\n",
      "Outlier slope... skipping\n",
      "Outlier slope... skipping\n",
      "Outlier slope... skipping\n",
      "Outlier slope... skipping\n",
      "Outlier slope... skipping\n",
      "Outlier slope... skipping\n",
      "Outlier slope... skipping\n",
      "Outlier slope... skipping\n",
      "Outlier slope... skipping\n",
      "Outlier slope... skipping\n",
      "Outlier slope... skipping\n",
      "Outlier slope... skipping\n",
      "Outlier slope... skipping\n",
      "Outlier slope... skipping\n",
      "Outlier slope... skipping\n",
      "Outlier slope... skipping\n",
      "Outlier slope... skipping\n",
      "Outlier slope... skipping\n",
      "Outlier slope... skipping\n",
      "Outlier slope... skipping\n",
      "Outlier slope... skipping\n",
      "Outlier slope... skipping\n"
     ]
    },
    {
     "name": "stderr",
     "output_type": "stream",
     "text": [
      " 61%|██████    | 153/251 [00:11<00:09, 10.17it/s]"
     ]
    },
    {
     "name": "stdout",
     "output_type": "stream",
     "text": [
      "Outlier slope... skipping\n",
      "Outlier slope... skipping\n",
      "Outlier slope... skipping\n",
      "Outlier slope... skipping\n",
      "Outlier slope... skipping\n",
      "Outlier slope... skipping\n",
      "Outlier slope... skipping\n",
      "Outlier slope... skipping\n",
      "Outlier slope... skipping\n",
      "Outlier slope... skipping\n",
      "Outlier slope... skipping\n",
      "Outlier slope... skipping\n",
      "Outlier slope... skipping\n",
      "Outlier slope... skipping\n",
      "Outlier slope... skipping\n",
      "Outlier slope... skipping\n",
      "Outlier slope... skipping\n"
     ]
    },
    {
     "name": "stderr",
     "output_type": "stream",
     "text": [
      "\r",
      " 62%|██████▏   | 155/251 [00:12<00:09,  9.78it/s]"
     ]
    },
    {
     "name": "stdout",
     "output_type": "stream",
     "text": [
      "Outlier slope... skipping\n",
      "Outlier slope... skipping\n",
      "Outlier slope... skipping\n",
      "Outlier slope... skipping\n",
      "Outlier slope... skipping\n",
      "Outlier slope... skipping\n",
      "Outlier slope... skipping\n",
      "Outlier slope... skipping\n",
      "Outlier slope... skipping\n",
      "Outlier slope... skipping\n",
      "Outlier slope... skipping\n",
      "Outlier slope... skipping\n"
     ]
    },
    {
     "name": "stderr",
     "output_type": "stream",
     "text": [
      " 63%|██████▎   | 159/251 [00:12<00:07, 11.66it/s]"
     ]
    },
    {
     "name": "stdout",
     "output_type": "stream",
     "text": [
      "Outlier slope... skipping\n",
      "Outlier slope... skipping\n",
      "Outlier slope... skipping\n",
      "Outlier slope... skipping\n",
      "Outlier slope... skipping\n",
      "Outlier slope... skipping\n",
      "Outlier slope... skipping\n",
      "Outlier slope... skipping\n",
      "Outlier slope... skipping\n",
      "Outlier slope... skipping\n"
     ]
    },
    {
     "name": "stderr",
     "output_type": "stream",
     "text": [
      " 65%|██████▍   | 163/251 [00:12<00:08,  9.92it/s]"
     ]
    },
    {
     "name": "stdout",
     "output_type": "stream",
     "text": [
      "Outlier slope... skipping\n",
      "Outlier slope... skipping\n",
      "Outlier slope... skipping\n",
      "Outlier slope... skipping\n",
      "Outlier slope... skipping\n",
      "Outlier slope... skipping\n",
      "Outlier slope... skipping\n",
      "Outlier slope... skipping\n",
      "Outlier slope... skipping\n"
     ]
    },
    {
     "name": "stderr",
     "output_type": "stream",
     "text": [
      " 67%|██████▋   | 167/251 [00:13<00:07, 11.94it/s]"
     ]
    },
    {
     "name": "stdout",
     "output_type": "stream",
     "text": [
      "Outlier slope... skipping\n",
      "Outlier slope... skipping\n",
      "Outlier slope... skipping\n",
      "Outlier slope... skipping\n"
     ]
    },
    {
     "name": "stderr",
     "output_type": "stream",
     "text": [
      " 70%|██████▉   | 175/251 [00:13<00:06, 12.66it/s]"
     ]
    },
    {
     "name": "stdout",
     "output_type": "stream",
     "text": [
      "Outlier slope... skipping\n"
     ]
    },
    {
     "name": "stderr",
     "output_type": "stream",
     "text": [
      " 76%|███████▌  | 190/251 [00:15<00:06,  9.94it/s]"
     ]
    },
    {
     "name": "stdout",
     "output_type": "stream",
     "text": [
      "Outlier slope... skipping\n",
      "Outlier slope... skipping\n",
      "Outlier slope... skipping\n",
      "Outlier slope... skipping\n",
      "Outlier slope... skipping\n"
     ]
    },
    {
     "name": "stderr",
     "output_type": "stream",
     "text": [
      "\r",
      " 76%|███████▋  | 192/251 [00:15<00:05, 10.88it/s]"
     ]
    },
    {
     "name": "stdout",
     "output_type": "stream",
     "text": [
      "Outlier slope... skipping\n",
      "Outlier slope... skipping\n",
      "Outlier slope... skipping\n",
      "Outlier slope... skipping\n",
      "Outlier slope... skipping\n",
      "Outlier slope... skipping\n",
      "Outlier slope... skipping\n",
      "Outlier slope... skipping\n",
      "Outlier slope... skipping\n",
      "Outlier slope... skipping\n"
     ]
    },
    {
     "name": "stderr",
     "output_type": "stream",
     "text": [
      "\r",
      " 77%|███████▋  | 194/251 [00:15<00:06,  9.18it/s]"
     ]
    },
    {
     "name": "stdout",
     "output_type": "stream",
     "text": [
      "Outlier slope... skipping\n",
      "Outlier slope... skipping\n",
      "Outlier slope... skipping\n",
      "Outlier slope... skipping\n",
      "Outlier slope... skipping\n"
     ]
    },
    {
     "name": "stderr",
     "output_type": "stream",
     "text": [
      " 79%|███████▉  | 198/251 [00:16<00:05,  9.81it/s]"
     ]
    },
    {
     "name": "stdout",
     "output_type": "stream",
     "text": [
      "Outlier slope... skipping\n",
      "Outlier slope... skipping\n",
      "Outlier slope... skipping\n",
      "Outlier slope... skipping\n",
      "Outlier slope... skipping\n",
      "Outlier slope... skipping\n",
      "Outlier slope... skipping\n",
      "Outlier slope... skipping\n",
      "Outlier slope... skipping\n",
      "Outlier slope... skipping\n",
      "Outlier slope... skipping\n",
      "Outlier slope... skipping\n"
     ]
    },
    {
     "name": "stderr",
     "output_type": "stream",
     "text": [
      "\r",
      " 80%|███████▉  | 200/251 [00:16<00:04, 10.97it/s]"
     ]
    },
    {
     "name": "stdout",
     "output_type": "stream",
     "text": [
      "Outlier slope... skipping\n",
      "Outlier slope... skipping\n",
      "Outlier slope... skipping\n",
      "Outlier slope... skipping\n",
      "Outlier slope... skipping\n",
      "Outlier slope... skipping\n",
      "Outlier slope... skipping\n",
      "Outlier slope... skipping\n",
      "Outlier slope... skipping\n",
      "Outlier slope... skipping\n",
      "Outlier slope... skipping\n",
      "Outlier slope... skipping\n",
      "Outlier slope... skipping\n"
     ]
    },
    {
     "name": "stderr",
     "output_type": "stream",
     "text": [
      " 82%|████████▏ | 206/251 [00:16<00:03, 12.36it/s]"
     ]
    },
    {
     "name": "stdout",
     "output_type": "stream",
     "text": [
      "Outlier slope... skipping\n",
      "Outlier slope... skipping\n",
      "Outlier slope... skipping\n",
      "Outlier slope... skipping\n",
      "Outlier slope... skipping\n",
      "Outlier slope... skipping\n",
      "Outlier slope... skipping\n",
      "Outlier slope... skipping\n",
      "Outlier slope... skipping\n",
      "Outlier slope... skipping\n",
      "Outlier slope... skipping\n",
      "Outlier slope... skipping\n",
      "Outlier slope... skipping\n",
      "Outlier slope... skipping\n",
      "Outlier slope... skipping\n",
      "Outlier slope... skipping\n",
      "Outlier slope... skipping\n",
      "Outlier slope... skipping\n",
      "Outlier slope... skipping\n",
      "Outlier slope... skipping\n",
      "Outlier slope... skipping\n",
      "Outlier slope... skipping\n",
      "Outlier slope... skipping\n",
      "Outlier slope... skipping\n"
     ]
    },
    {
     "name": "stderr",
     "output_type": "stream",
     "text": [
      " 84%|████████▎ | 210/251 [00:17<00:03, 10.55it/s]"
     ]
    },
    {
     "name": "stdout",
     "output_type": "stream",
     "text": [
      "Outlier slope... skipping\n",
      "Outlier slope... skipping\n",
      "Outlier slope... skipping\n",
      "Outlier slope... skipping\n",
      "Outlier slope... skipping\n",
      "Outlier slope... skipping\n",
      "Outlier slope... skipping\n",
      "Outlier slope... skipping\n",
      "Outlier slope... skipping\n",
      "Outlier slope... skipping\n",
      "Outlier slope... skipping\n"
     ]
    },
    {
     "name": "stderr",
     "output_type": "stream",
     "text": [
      " 85%|████████▌ | 214/251 [00:17<00:03, 12.30it/s]"
     ]
    },
    {
     "name": "stdout",
     "output_type": "stream",
     "text": [
      "Outlier slope... skipping\n",
      "Outlier slope... skipping\n",
      "Outlier slope... skipping\n",
      "Outlier slope... skipping\n",
      "Outlier slope... skipping\n",
      "Outlier slope... skipping\n",
      "Outlier slope... skipping\n",
      "Outlier slope... skipping\n",
      "Outlier slope... skipping\n",
      "Outlier slope... skipping\n",
      "Outlier slope... skipping\n",
      "Outlier slope... skipping\n",
      "Outlier slope... skipping\n",
      "Outlier slope... skipping\n",
      "Outlier slope... skipping\n",
      "Outlier slope... skipping\n",
      "No detections on right or left line - using previous results\n",
      "Outlier slope... skipping\n",
      "Outlier slope... skipping\n",
      "Outlier slope... skipping\n",
      "Outlier slope... skipping\n",
      "Outlier slope... skipping\n",
      "Outlier slope... skipping\n",
      "Outlier slope... skipping\n",
      "Outlier slope... skipping\n",
      "Outlier slope... skipping\n",
      "Outlier slope... skipping\n",
      "No detections on right or left line - using previous results\n"
     ]
    },
    {
     "name": "stderr",
     "output_type": "stream",
     "text": [
      "\r",
      " 86%|████████▌ | 216/251 [00:17<00:03,  9.69it/s]"
     ]
    },
    {
     "name": "stdout",
     "output_type": "stream",
     "text": [
      "Outlier slope... skipping\n",
      "Outlier slope... skipping\n",
      "Outlier slope... skipping\n",
      "Outlier slope... skipping\n",
      "Outlier slope... skipping\n",
      "Outlier slope... skipping\n",
      "No detections on right or left line - using previous results\n"
     ]
    },
    {
     "name": "stderr",
     "output_type": "stream",
     "text": [
      "\r",
      " 87%|████████▋ | 218/251 [00:18<00:03, 10.89it/s]"
     ]
    },
    {
     "name": "stdout",
     "output_type": "stream",
     "text": [
      "Outlier slope... skipping\n",
      "Outlier slope... skipping\n",
      "Outlier slope... skipping\n",
      "Outlier slope... skipping\n",
      "No detections on right or left line - using previous results\n",
      "Outlier slope... skipping\n",
      "Outlier slope... skipping\n",
      "Outlier slope... skipping\n",
      "Outlier slope... skipping\n",
      "Outlier slope... skipping\n",
      "Outlier slope... skipping\n",
      "Outlier slope... skipping\n",
      "Outlier slope... skipping\n",
      "Outlier slope... skipping\n",
      "Outlier slope... skipping\n",
      "Outlier slope... skipping\n",
      "Outlier slope... skipping\n",
      "Outlier slope... skipping\n",
      "Outlier slope... skipping\n",
      "Outlier slope... skipping\n",
      "No detections on right or left line - using previous results\n"
     ]
    },
    {
     "name": "stderr",
     "output_type": "stream",
     "text": [
      " 88%|████████▊ | 222/251 [00:18<00:02, 11.62it/s]"
     ]
    },
    {
     "name": "stdout",
     "output_type": "stream",
     "text": [
      "Outlier slope... skipping\n",
      "Outlier slope... skipping\n",
      "Outlier slope... skipping\n",
      "Outlier slope... skipping\n",
      "Outlier slope... skipping\n",
      "Outlier slope... skipping\n",
      "Outlier slope... skipping\n",
      "Outlier slope... skipping\n",
      "Outlier slope... skipping\n",
      "Outlier slope... skipping\n",
      "Outlier slope... skipping\n",
      "Outlier slope... skipping\n",
      "Outlier slope... skipping\n",
      "Outlier slope... skipping\n",
      "Outlier slope... skipping\n",
      "Outlier slope... skipping\n",
      "Outlier slope... skipping\n",
      "Outlier slope... skipping\n",
      "Outlier slope... skipping\n",
      "Outlier slope... skipping\n",
      "No detections on right or left line - using previous results\n"
     ]
    },
    {
     "name": "stderr",
     "output_type": "stream",
     "text": [
      "\r",
      " 89%|████████▉ | 224/251 [00:18<00:02, 10.46it/s]"
     ]
    },
    {
     "name": "stdout",
     "output_type": "stream",
     "text": [
      "Outlier slope... skipping\n",
      "Outlier slope... skipping\n",
      "Outlier slope... skipping\n",
      "Outlier slope... skipping\n",
      "Outlier slope... skipping\n",
      "Outlier slope... skipping\n",
      "Outlier slope... skipping\n",
      "Outlier slope... skipping\n",
      "Outlier slope... skipping\n",
      "Outlier slope... skipping\n",
      "Outlier slope... skipping\n",
      "Outlier slope... skipping\n",
      "Outlier slope... skipping\n",
      "Outlier slope... skipping\n"
     ]
    },
    {
     "name": "stderr",
     "output_type": "stream",
     "text": [
      "\r",
      " 90%|█████████ | 226/251 [00:18<00:02, 11.33it/s]"
     ]
    },
    {
     "name": "stdout",
     "output_type": "stream",
     "text": [
      "Outlier slope... skipping\n",
      "Outlier slope... skipping\n",
      "Outlier slope... skipping\n",
      "Outlier slope... skipping\n",
      "Outlier slope... skipping\n",
      "Outlier slope... skipping\n",
      "Outlier slope... skipping\n",
      "Outlier slope... skipping\n",
      "Outlier slope... skipping\n",
      "Outlier slope... skipping\n",
      "Outlier slope... skipping\n",
      "Outlier slope... skipping\n",
      "Outlier slope... skipping\n",
      "Outlier slope... skipping\n",
      "Outlier slope... skipping\n",
      "Outlier slope... skipping\n",
      "Outlier slope... skipping\n",
      "Outlier slope... skipping\n",
      "Outlier slope... skipping\n",
      "Outlier slope... skipping\n",
      "Outlier slope... skipping\n",
      "Outlier slope... skipping\n",
      "Outlier slope... skipping\n",
      "Outlier slope... skipping\n",
      "Outlier slope... skipping\n",
      "Outlier slope... skipping\n",
      "Outlier slope... skipping\n",
      "Outlier slope... skipping\n"
     ]
    },
    {
     "name": "stderr",
     "output_type": "stream",
     "text": [
      " 92%|█████████▏| 230/251 [00:19<00:01, 12.16it/s]"
     ]
    },
    {
     "name": "stdout",
     "output_type": "stream",
     "text": [
      "Outlier slope... skipping\n",
      "Outlier slope... skipping\n",
      "Outlier slope... skipping\n",
      "Outlier slope... skipping\n",
      "Outlier slope... skipping\n",
      "Outlier slope... skipping\n",
      "Outlier slope... skipping\n",
      "Outlier slope... skipping\n",
      "Outlier slope... skipping\n",
      "Outlier slope... skipping\n",
      "Outlier slope... skipping\n",
      "Outlier slope... skipping\n",
      "Outlier slope... skipping\n",
      "Outlier slope... skipping\n",
      "Outlier slope... skipping\n",
      "Outlier slope... skipping\n",
      "Outlier slope... skipping\n",
      "Outlier slope... skipping\n",
      "Outlier slope... skipping\n",
      "Outlier slope... skipping\n",
      "Outlier slope... skipping\n",
      "Outlier slope... skipping\n",
      "Outlier slope... skipping\n",
      "Outlier slope... skipping\n",
      "Outlier slope... skipping\n",
      "Outlier slope... skipping\n",
      "Outlier slope... skipping\n",
      "No detections on right or left line - using previous results\n"
     ]
    },
    {
     "name": "stderr",
     "output_type": "stream",
     "text": [
      " 94%|█████████▍| 236/251 [00:19<00:01, 13.40it/s]"
     ]
    },
    {
     "name": "stdout",
     "output_type": "stream",
     "text": [
      "Outlier slope... skipping\n",
      "Outlier slope... skipping\n",
      "Outlier slope... skipping\n",
      "Outlier slope... skipping\n",
      "Outlier slope... skipping\n",
      "Outlier slope... skipping\n",
      "Outlier slope... skipping\n",
      "No detections on right or left line - using previous results\n",
      "Outlier slope... skipping\n",
      "Outlier slope... skipping\n",
      "Outlier slope... skipping\n",
      "Outlier slope... skipping\n",
      "Outlier slope... skipping\n",
      "Outlier slope... skipping\n",
      "Outlier slope... skipping\n",
      "No detections on right or left line - using previous results\n",
      "Outlier slope... skipping\n",
      "Outlier slope... skipping\n",
      "Outlier slope... skipping\n",
      "Outlier slope... skipping\n",
      "Outlier slope... skipping\n",
      "Outlier slope... skipping\n",
      "No detections on right or left line - using previous results\n",
      "Outlier slope... skipping\n",
      "Outlier slope... skipping\n",
      "Outlier slope... skipping\n",
      "Outlier slope... skipping\n",
      "Outlier slope... skipping\n",
      "Outlier slope... skipping\n",
      "Outlier slope... skipping\n",
      "No detections on right or left line - using previous results\n"
     ]
    },
    {
     "name": "stderr",
     "output_type": "stream",
     "text": [
      "\r",
      " 95%|█████████▌| 239/251 [00:19<00:00, 13.77it/s]"
     ]
    },
    {
     "name": "stdout",
     "output_type": "stream",
     "text": [
      "Outlier slope... skipping\n",
      "Outlier slope... skipping\n",
      "Outlier slope... skipping\n",
      "Outlier slope... skipping\n",
      "Outlier slope... skipping\n",
      "Outlier slope... skipping\n",
      "Outlier slope... skipping\n",
      "No detections on right or left line - using previous results\n",
      "Outlier slope... skipping\n",
      "Outlier slope... skipping\n",
      "Outlier slope... skipping\n",
      "Outlier slope... skipping\n",
      "Outlier slope... skipping\n",
      "Outlier slope... skipping\n",
      "Outlier slope... skipping\n",
      "No detections on right or left line - using previous results\n",
      "Outlier slope... skipping\n",
      "Outlier slope... skipping\n",
      "Outlier slope... skipping\n",
      "Outlier slope... skipping\n",
      "Outlier slope... skipping\n",
      "Outlier slope... skipping\n",
      "Outlier slope... skipping\n"
     ]
    },
    {
     "name": "stderr",
     "output_type": "stream",
     "text": [
      "\r",
      " 96%|█████████▌| 241/251 [00:19<00:00, 13.21it/s]"
     ]
    },
    {
     "name": "stdout",
     "output_type": "stream",
     "text": [
      "Outlier slope... skipping\n",
      "Outlier slope... skipping\n",
      "Outlier slope... skipping\n",
      "Outlier slope... skipping\n",
      "Outlier slope... skipping\n",
      "Outlier slope... skipping\n",
      "Outlier slope... skipping\n",
      "Outlier slope... skipping\n",
      "Outlier slope... skipping\n",
      "Outlier slope... skipping\n",
      "Outlier slope... skipping\n",
      "Outlier slope... skipping\n",
      "Outlier slope... skipping\n",
      "Outlier slope... skipping\n",
      "Outlier slope... skipping\n",
      "Outlier slope... skipping\n"
     ]
    },
    {
     "name": "stderr",
     "output_type": "stream",
     "text": [
      " 98%|█████████▊| 245/251 [00:20<00:00, 13.66it/s]"
     ]
    },
    {
     "name": "stdout",
     "output_type": "stream",
     "text": [
      "Outlier slope... skipping\n",
      "Outlier slope... skipping\n",
      "Outlier slope... skipping\n",
      "Outlier slope... skipping\n",
      "Outlier slope... skipping\n",
      "Outlier slope... skipping\n",
      "Outlier slope... skipping\n",
      "Outlier slope... skipping\n",
      "Outlier slope... skipping\n",
      "Outlier slope... skipping\n",
      "Outlier slope... skipping\n",
      "Outlier slope... skipping\n",
      "Outlier slope... skipping\n",
      "Outlier slope... skipping\n",
      "Outlier slope... skipping\n",
      "Outlier slope... skipping\n"
     ]
    },
    {
     "name": "stderr",
     "output_type": "stream",
     "text": [
      " 99%|█████████▉| 249/251 [00:20<00:00, 13.50it/s]"
     ]
    },
    {
     "name": "stdout",
     "output_type": "stream",
     "text": [
      "Outlier slope... skipping\n",
      "Outlier slope... skipping\n",
      "Outlier slope... skipping\n",
      "Outlier slope... skipping\n",
      "Outlier slope... skipping\n",
      "Outlier slope... skipping\n",
      "Outlier slope... skipping\n",
      "Outlier slope... skipping\n",
      "Outlier slope... skipping\n",
      "Outlier slope... skipping\n",
      "Outlier slope... skipping\n",
      "Outlier slope... skipping\n",
      "Outlier slope... skipping\n",
      "Outlier slope... skipping\n",
      "Outlier slope... skipping\n",
      "Outlier slope... skipping\n",
      "Outlier slope... skipping\n",
      "Outlier slope... skipping\n",
      "Outlier slope... skipping\n",
      "Outlier slope... skipping\n"
     ]
    },
    {
     "name": "stderr",
     "output_type": "stream",
     "text": [
      "100%|██████████| 251/251 [00:20<00:00, 14.85it/s]\n"
     ]
    },
    {
     "name": "stdout",
     "output_type": "stream",
     "text": [
      "Outlier slope... skipping\n",
      "Outlier slope... skipping\n",
      "Outlier slope... skipping\n",
      "Outlier slope... skipping\n",
      "Outlier slope... skipping\n",
      "Outlier slope... skipping\n",
      "Outlier slope... skipping\n",
      "Outlier slope... skipping\n",
      "[MoviePy] Done.\n",
      "[MoviePy] >>>> Video ready: test_videos_output/challenge.mp4 \n",
      "\n",
      "CPU times: user 10.5 s, sys: 536 ms, total: 11 s\n",
      "Wall time: 22.7 s\n"
     ]
    }
   ],
   "source": [
    "challenge_output = 'test_videos_output/challenge.mp4'\n",
    "## To speed up the testing process you may want to try your pipeline on a shorter subclip of the video\n",
    "## To do so add .subclip(start_second,end_second) to the end of the line below\n",
    "## Where start_second and end_second are integer values representing the start and end of the subclip\n",
    "## You may also uncomment the following line for a subclip of the first 5 seconds\n",
    "#clip3 = VideoFileClip('test_videos/challenge.mp4').subclip(0,2)\n",
    "clip3 = VideoFileClip('test_videos/challenge.mp4')\n",
    "\n",
    "print('Height: ' , clip3.h, ' Width: ', clip3.w)\n",
    "\n",
    "challenge_clip = clip3.fl_image(process_image)\n",
    "%time challenge_clip.write_videofile(challenge_output, audio=False)"
   ]
  },
  {
   "cell_type": "code",
   "execution_count": 37,
   "metadata": {},
   "outputs": [
    {
     "data": {
      "image/png": "[encoded data removed]",
      "text/plain": [
       "<matplotlib.figure.Figure at 0x7ff982873f60>"
      ]
     },
     "metadata": {},
     "output_type": "display_data"
    }
   ],
   "source": [
    "red_patch = mpatches.Patch(color='red', label='d right')\n",
    "green_patch = mpatches.Patch(color='green', label='d right filtered')\n",
    "plt.legend(handles=[red_patch, green_patch])\n",
    "plt.ylabel('Pixel')\n",
    "plt.xlabel('Frame')\n",
    "\n",
    "plt.plot(frame, plot_d_right, 'r--', frame, plot_d_right_filtered, 'g--')\n",
    "plt.show()"
   ]
  },
  {
   "cell_type": "code",
   "execution_count": 38,
   "metadata": {},
   "outputs": [
    {
     "data": {
      "image/png": "[encoded data removed]",
      "text/plain": [
       "<matplotlib.figure.Figure at 0x7ff9829c4160>"
      ]
     },
     "metadata": {},
     "output_type": "display_data"
    }
   ],
   "source": [
    "red_patch = mpatches.Patch(color='red', label='d left')\n",
    "green_patch = mpatches.Patch(color='green', label='d left filtered')\n",
    "plt.legend(handles=[red_patch, green_patch])\n",
    "plt.ylabel('Pixel')\n",
    "plt.xlabel('Frame')\n",
    "\n",
    "plt.plot(frame, plot_d_left, 'r--', frame, plot_d_left_filtered, 'g--')\n",
    "plt.show()"
   ]
  },
  {
   "cell_type": "code",
   "execution_count": 39,
   "metadata": {},
   "outputs": [
    {
     "data": {
      "image/png": "[encoded data removed]",
      "text/plain": [
       "<matplotlib.figure.Figure at 0x7ff98290f748>"
      ]
     },
     "metadata": {},
     "output_type": "display_data"
    }
   ],
   "source": [
    "red_patch = mpatches.Patch(color='red', label='slope left')\n",
    "green_patch = mpatches.Patch(color='green', label='slope left filtered')\n",
    "plt.legend(handles=[red_patch, green_patch])\n",
    "plt.ylabel('Pixel')\n",
    "plt.xlabel('Frame')\n",
    "\n",
    "plt.plot(frame, plot_slope_left, 'r--', frame, plot_slope_left_filtered, 'g--')\n",
    "plt.show()"
   ]
  },
  {
   "cell_type": "code",
   "execution_count": 40,
   "metadata": {},
   "outputs": [
    {
     "data": {
      "image/png": "[encoded data removed]",
      "text/plain": [
       "<matplotlib.figure.Figure at 0x7ff982d39278>"
      ]
     },
     "metadata": {},
     "output_type": "display_data"
    }
   ],
   "source": [
    "red_patch = mpatches.Patch(color='red', label='slope right')\n",
    "green_patch = mpatches.Patch(color='green', label='slope right filtered')\n",
    "plt.legend(handles=[red_patch, green_patch])\n",
    "plt.ylabel('Pixel')\n",
    "plt.xlabel('Frame')\n",
    "\n",
    "plt.plot(frame, plot_slope_right, 'r--', frame, plot_slope_right_filtered, 'g--')\n",
    "plt.show()"
   ]
  },
  {
   "cell_type": "code",
   "execution_count": 41,
   "metadata": {},
   "outputs": [
    {
     "data": {
      "text/html": [
       "\n",
       "<video width=\"960\" height=\"540\" controls>\n",
       "  <source src=\"test_videos_output/challenge.mp4\">\n",
       "</video>\n"
      ],
      "text/plain": [
       "<IPython.core.display.HTML object>"
      ]
     },
     "execution_count": 41,
     "metadata": {},
     "output_type": "execute_result"
    }
   ],
   "source": [
    "HTML(\"\"\"\n",
    "<video width=\"960\" height=\"540\" controls>\n",
    "  <source src=\"{0}\">\n",
    "</video>\n",
    "\"\"\".format(challenge_output))"
   ]
  },
  {
   "cell_type": "code",
   "execution_count": null,
   "metadata": {
    "collapsed": true
   },
   "outputs": [],
   "source": []
  },
  {
   "cell_type": "code",
   "execution_count": null,
   "metadata": {
    "collapsed": true
   },
   "outputs": [],
   "source": []
  },
  {
   "cell_type": "code",
   "execution_count": null,
   "metadata": {
    "collapsed": true
   },
   "outputs": [],
   "source": []
  },
  {
   "cell_type": "code",
   "execution_count": null,
   "metadata": {
    "collapsed": true
   },
   "outputs": [],
   "source": []
  },
  {
   "cell_type": "code",
   "execution_count": null,
   "metadata": {
    "collapsed": true
   },
   "outputs": [],
   "source": []
  },
  {
   "cell_type": "code",
   "execution_count": null,
   "metadata": {
    "collapsed": true
   },
   "outputs": [],
   "source": []
  }
 ],
 "metadata": {
  "anaconda-cloud": {},
  "kernelspec": {
   "display_name": "Python 3",
   "language": "python",
   "name": "python3"
  },
  "language_info": {
   "codemirror_mode": {
    "name": "ipython",
    "version": 3
   },
   "file_extension": ".py",
   "mimetype": "text/x-python",
   "name": "python",
   "nbconvert_exporter": "python",
   "pygments_lexer": "ipython3",
   "version": "3.5.2"
  },
  "widgets": {
   "state": {},
   "version": "1.1.2"
  }
 },
 "nbformat": 4,
 "nbformat_minor": 1
}
